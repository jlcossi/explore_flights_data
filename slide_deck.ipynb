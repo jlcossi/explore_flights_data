{
 "cells": [
  {
   "cell_type": "markdown",
   "metadata": {},
   "source": [
    "# Parameters related to flights delays and cancellations"
   ]
  },
  {
   "cell_type": "markdown",
   "metadata": {},
   "source": [
    "## Investigation Overview\n",
    "\n",
    "In this investigation, I wanted to have an idea on some elements related to any flight delay or cancellation. For each of them, the main focus will be on the carriers, the destinations, the departure delays and the planned flight duration. \n",
    "\n",
    "## Dataset Overview\n",
    "\n",
    "The data consisted of 73546 records of flights, for the US, over 5 years. There are time variables (mainly expected times and delays), numeric variables and text variables such are origins, destinations and carriers' names. I also have boolean like information (here as 0 or 1) to know if the flight is canceled or diverted."
   ]
  },
  {
   "cell_type": "code",
   "execution_count": 1,
   "metadata": {},
   "outputs": [],
   "source": [
    "# import all packages and set plots to be embedded inline\n",
    "import numpy as np\n",
    "import pandas as pd\n",
    "import matplotlib.pyplot as plt\n",
    "import seaborn as sb\n",
    "import datetime, time\n",
    "\n",
    "%matplotlib inline\n",
    "\n",
    "# suppress warnings from final output\n",
    "import warnings\n",
    "warnings.simplefilter(\"ignore\")"
   ]
  },
  {
   "cell_type": "markdown",
   "metadata": {},
   "source": [
    "## Occurences of the cancellations\n",
    "\n",
    "Diamond prices in the dataset take on a very large range of values, from about \\$300 at the lowest, to about \\$19,000 at the highest. Plotted on a logarithmic scale, the distribution of diamond prices takes on a multimodal shape."
   ]
  },
  {
   "cell_type": "markdown",
   "metadata": {},
   "source": [
    "### For cities"
   ]
  },
  {
   "cell_type": "markdown",
   "metadata": {},
   "source": [
    "### For carriers"
   ]
  },
  {
   "cell_type": "markdown",
   "metadata": {},
   "source": [
    "## Distribution of arrival delays\n",
    "\n",
    "Diamond prices in the dataset take on a very large range of values, from about \\$300 at the lowest, to about \\$19,000 at the highest. Plotted on a logarithmic scale, the distribution of diamond prices takes on a multimodal shape."
   ]
  },
  {
   "cell_type": "markdown",
   "metadata": {},
   "source": [
    "## Cancelled flights : destinations vs carriers codes\n",
    "\n",
    "Diamond prices in the dataset take on a very large range of values, from about \\$300 at the lowest, to about \\$19,000 at the highest. Plotted on a logarithmic scale, the distribution of diamond prices takes on a multimodal shape."
   ]
  },
  {
   "cell_type": "markdown",
   "metadata": {},
   "source": [
    "## Delayed flights : destinations vs carriers codes\n",
    "\n",
    "Diamond prices in the dataset take on a very large range of values, from about \\$300 at the lowest, to about \\$19,000 at the highest. Plotted on a logarithmic scale, the distribution of diamond prices takes on a multimodal shape."
   ]
  },
  {
   "cell_type": "markdown",
   "metadata": {},
   "source": [
    "## Cancelled flights : destinations vs carriers codes and planned flights durations\n",
    "\n",
    "Diamond prices in the dataset take on a very large range of values, from about \\$300 at the lowest, to about \\$19,000 at the highest. Plotted on a logarithmic scale, the distribution of diamond prices takes on a multimodal shape."
   ]
  },
  {
   "cell_type": "markdown",
   "metadata": {},
   "source": [
    "## Delayed flights : destinations vs carriers codes and departure delays\n",
    "\n",
    "Diamond prices in the dataset take on a very large range of values, from about \\$300 at the lowest, to about \\$19,000 at the highest. Plotted on a logarithmic scale, the distribution of diamond prices takes on a multimodal shape."
   ]
  },
  {
   "cell_type": "code",
   "execution_count": null,
   "metadata": {},
   "outputs": [],
   "source": []
  },
  {
   "cell_type": "code",
   "execution_count": null,
   "metadata": {},
   "outputs": [],
   "source": []
  }
 ],
 "metadata": {
  "kernelspec": {
   "display_name": "Python 3",
   "language": "python",
   "name": "python3"
  },
  "language_info": {
   "codemirror_mode": {
    "name": "ipython",
    "version": 3
   },
   "file_extension": ".py",
   "mimetype": "text/x-python",
   "name": "python",
   "nbconvert_exporter": "python",
   "pygments_lexer": "ipython3",
   "version": "3.6.6"
  }
 },
 "nbformat": 4,
 "nbformat_minor": 2
}

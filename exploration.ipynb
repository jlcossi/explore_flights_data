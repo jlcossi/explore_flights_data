{
 "cells": [
  {
   "cell_type": "markdown",
   "metadata": {},
   "source": [
    "# Flights data exploration\n",
    "## by Jean-Luc COSSI\n",
    "\n",
    "## Preliminary Wrangling\n",
    "\n",
    "> I use Python visualization libraries to systematically explore \"Reporting Carrier On-Time Performance\" for several years. Those data files have been selected from http://stat-computing.org/dataexpo/2009/the-data.html.  \n",
    "A detailed presentation of the data is available here https://www.transtats.bts.gov/Fields.asp?Table_ID=236"
   ]
  },
  {
   "cell_type": "code",
   "execution_count": 204,
   "metadata": {},
   "outputs": [],
   "source": [
    "# import all packages and set plots to be embedded inline\n",
    "import numpy as np\n",
    "import pandas as pd\n",
    "import matplotlib.pyplot as plt\n",
    "import seaborn as sb\n",
    "import datetime, time\n",
    "\n",
    "%matplotlib inline"
   ]
  },
  {
   "cell_type": "markdown",
   "metadata": {},
   "source": [
    "As the original files were too big, I created a random sample of the original files I chose to use."
   ]
  },
  {
   "cell_type": "markdown",
   "metadata": {},
   "source": [
    "> Load in the dataset and describe its properties. We motivate our exploration goals through this section."
   ]
  },
  {
   "cell_type": "code",
   "execution_count": 205,
   "metadata": {},
   "outputs": [],
   "source": [
    "# load data files\n",
    "df_1987 = pd.read_csv('data/1988_sample.csv')\n",
    "df_1989 = pd.read_csv('data/1989_sample.csv')\n",
    "df_1990 = pd.read_csv('data/1990_sample.csv')\n",
    "df_1991 = pd.read_csv('data/1991_sample.csv')\n",
    "df_1992 = pd.read_csv('data/1992_sample.csv')"
   ]
  },
  {
   "cell_type": "code",
   "execution_count": 206,
   "metadata": {},
   "outputs": [],
   "source": [
    "# concat all into one dafaframe\n",
    "df = pd.concat([df_1987, df_1989, df_1990, df_1991, df_1992], ignore_index=True)"
   ]
  },
  {
   "cell_type": "code",
   "execution_count": 207,
   "metadata": {},
   "outputs": [
    {
     "data": {
      "text/plain": [
       "(75000, 29)"
      ]
     },
     "execution_count": 207,
     "metadata": {},
     "output_type": "execute_result"
    }
   ],
   "source": [
    "# Get the dataframe size\n",
    "df.shape"
   ]
  },
  {
   "cell_type": "code",
   "execution_count": 208,
   "metadata": {},
   "outputs": [
    {
     "data": {
      "text/html": [
       "<div>\n",
       "<style scoped>\n",
       "    .dataframe tbody tr th:only-of-type {\n",
       "        vertical-align: middle;\n",
       "    }\n",
       "\n",
       "    .dataframe tbody tr th {\n",
       "        vertical-align: top;\n",
       "    }\n",
       "\n",
       "    .dataframe thead th {\n",
       "        text-align: right;\n",
       "    }\n",
       "</style>\n",
       "<table border=\"1\" class=\"dataframe\">\n",
       "  <thead>\n",
       "    <tr style=\"text-align: right;\">\n",
       "      <th></th>\n",
       "      <th>Year</th>\n",
       "      <th>Month</th>\n",
       "      <th>DayofMonth</th>\n",
       "      <th>DayOfWeek</th>\n",
       "      <th>DepTime</th>\n",
       "      <th>CRSDepTime</th>\n",
       "      <th>ArrTime</th>\n",
       "      <th>CRSArrTime</th>\n",
       "      <th>UniqueCarrier</th>\n",
       "      <th>FlightNum</th>\n",
       "      <th>...</th>\n",
       "      <th>TaxiIn</th>\n",
       "      <th>TaxiOut</th>\n",
       "      <th>Cancelled</th>\n",
       "      <th>CancellationCode</th>\n",
       "      <th>Diverted</th>\n",
       "      <th>CarrierDelay</th>\n",
       "      <th>WeatherDelay</th>\n",
       "      <th>NASDelay</th>\n",
       "      <th>SecurityDelay</th>\n",
       "      <th>LateAircraftDelay</th>\n",
       "    </tr>\n",
       "  </thead>\n",
       "  <tbody>\n",
       "    <tr>\n",
       "      <th>21371</th>\n",
       "      <td>1989</td>\n",
       "      <td>1</td>\n",
       "      <td>27</td>\n",
       "      <td>5</td>\n",
       "      <td>1826.0</td>\n",
       "      <td>1826</td>\n",
       "      <td>2102.0</td>\n",
       "      <td>2058</td>\n",
       "      <td>UA</td>\n",
       "      <td>742</td>\n",
       "      <td>...</td>\n",
       "      <td>NaN</td>\n",
       "      <td>NaN</td>\n",
       "      <td>0</td>\n",
       "      <td>NaN</td>\n",
       "      <td>0</td>\n",
       "      <td>NaN</td>\n",
       "      <td>NaN</td>\n",
       "      <td>NaN</td>\n",
       "      <td>NaN</td>\n",
       "      <td>NaN</td>\n",
       "    </tr>\n",
       "    <tr>\n",
       "      <th>29316</th>\n",
       "      <td>1989</td>\n",
       "      <td>5</td>\n",
       "      <td>23</td>\n",
       "      <td>2</td>\n",
       "      <td>715.0</td>\n",
       "      <td>710</td>\n",
       "      <td>1356.0</td>\n",
       "      <td>1407</td>\n",
       "      <td>DL</td>\n",
       "      <td>1566</td>\n",
       "      <td>...</td>\n",
       "      <td>NaN</td>\n",
       "      <td>NaN</td>\n",
       "      <td>0</td>\n",
       "      <td>NaN</td>\n",
       "      <td>0</td>\n",
       "      <td>NaN</td>\n",
       "      <td>NaN</td>\n",
       "      <td>NaN</td>\n",
       "      <td>NaN</td>\n",
       "      <td>NaN</td>\n",
       "    </tr>\n",
       "    <tr>\n",
       "      <th>19415</th>\n",
       "      <td>1989</td>\n",
       "      <td>11</td>\n",
       "      <td>5</td>\n",
       "      <td>7</td>\n",
       "      <td>1419.0</td>\n",
       "      <td>1415</td>\n",
       "      <td>1643.0</td>\n",
       "      <td>1647</td>\n",
       "      <td>US</td>\n",
       "      <td>1981</td>\n",
       "      <td>...</td>\n",
       "      <td>NaN</td>\n",
       "      <td>NaN</td>\n",
       "      <td>0</td>\n",
       "      <td>NaN</td>\n",
       "      <td>0</td>\n",
       "      <td>NaN</td>\n",
       "      <td>NaN</td>\n",
       "      <td>NaN</td>\n",
       "      <td>NaN</td>\n",
       "      <td>NaN</td>\n",
       "    </tr>\n",
       "    <tr>\n",
       "      <th>15954</th>\n",
       "      <td>1989</td>\n",
       "      <td>2</td>\n",
       "      <td>12</td>\n",
       "      <td>7</td>\n",
       "      <td>2059.0</td>\n",
       "      <td>2100</td>\n",
       "      <td>2351.0</td>\n",
       "      <td>2343</td>\n",
       "      <td>AA</td>\n",
       "      <td>97</td>\n",
       "      <td>...</td>\n",
       "      <td>NaN</td>\n",
       "      <td>NaN</td>\n",
       "      <td>0</td>\n",
       "      <td>NaN</td>\n",
       "      <td>0</td>\n",
       "      <td>NaN</td>\n",
       "      <td>NaN</td>\n",
       "      <td>NaN</td>\n",
       "      <td>NaN</td>\n",
       "      <td>NaN</td>\n",
       "    </tr>\n",
       "    <tr>\n",
       "      <th>15866</th>\n",
       "      <td>1989</td>\n",
       "      <td>9</td>\n",
       "      <td>17</td>\n",
       "      <td>7</td>\n",
       "      <td>1405.0</td>\n",
       "      <td>1400</td>\n",
       "      <td>1431.0</td>\n",
       "      <td>1425</td>\n",
       "      <td>CO</td>\n",
       "      <td>3006</td>\n",
       "      <td>...</td>\n",
       "      <td>NaN</td>\n",
       "      <td>NaN</td>\n",
       "      <td>0</td>\n",
       "      <td>NaN</td>\n",
       "      <td>0</td>\n",
       "      <td>NaN</td>\n",
       "      <td>NaN</td>\n",
       "      <td>NaN</td>\n",
       "      <td>NaN</td>\n",
       "      <td>NaN</td>\n",
       "    </tr>\n",
       "  </tbody>\n",
       "</table>\n",
       "<p>5 rows × 29 columns</p>\n",
       "</div>"
      ],
      "text/plain": [
       "       Year  Month  DayofMonth  DayOfWeek  DepTime  CRSDepTime  ArrTime  \\\n",
       "21371  1989      1          27          5   1826.0        1826   2102.0   \n",
       "29316  1989      5          23          2    715.0         710   1356.0   \n",
       "19415  1989     11           5          7   1419.0        1415   1643.0   \n",
       "15954  1989      2          12          7   2059.0        2100   2351.0   \n",
       "15866  1989      9          17          7   1405.0        1400   1431.0   \n",
       "\n",
       "       CRSArrTime UniqueCarrier  FlightNum        ...          TaxiIn  \\\n",
       "21371        2058            UA        742        ...             NaN   \n",
       "29316        1407            DL       1566        ...             NaN   \n",
       "19415        1647            US       1981        ...             NaN   \n",
       "15954        2343            AA         97        ...             NaN   \n",
       "15866        1425            CO       3006        ...             NaN   \n",
       "\n",
       "       TaxiOut  Cancelled  CancellationCode  Diverted  CarrierDelay  \\\n",
       "21371      NaN          0               NaN         0           NaN   \n",
       "29316      NaN          0               NaN         0           NaN   \n",
       "19415      NaN          0               NaN         0           NaN   \n",
       "15954      NaN          0               NaN         0           NaN   \n",
       "15866      NaN          0               NaN         0           NaN   \n",
       "\n",
       "      WeatherDelay NASDelay  SecurityDelay  LateAircraftDelay  \n",
       "21371          NaN      NaN            NaN                NaN  \n",
       "29316          NaN      NaN            NaN                NaN  \n",
       "19415          NaN      NaN            NaN                NaN  \n",
       "15954          NaN      NaN            NaN                NaN  \n",
       "15866          NaN      NaN            NaN                NaN  \n",
       "\n",
       "[5 rows x 29 columns]"
      ]
     },
     "execution_count": 208,
     "metadata": {},
     "output_type": "execute_result"
    }
   ],
   "source": [
    "# Get a view on some values\n",
    "df.sample(5)"
   ]
  },
  {
   "cell_type": "markdown",
   "metadata": {},
   "source": [
    "Observation: there are missing data in some columns."
   ]
  },
  {
   "cell_type": "code",
   "execution_count": 209,
   "metadata": {
    "scrolled": false
   },
   "outputs": [
    {
     "data": {
      "text/plain": [
       "Year                   int64\n",
       "Month                  int64\n",
       "DayofMonth             int64\n",
       "DayOfWeek              int64\n",
       "DepTime              float64\n",
       "CRSDepTime             int64\n",
       "ArrTime              float64\n",
       "CRSArrTime             int64\n",
       "UniqueCarrier         object\n",
       "FlightNum              int64\n",
       "TailNum              float64\n",
       "ActualElapsedTime    float64\n",
       "CRSElapsedTime         int64\n",
       "AirTime              float64\n",
       "ArrDelay             float64\n",
       "DepDelay             float64\n",
       "Origin                object\n",
       "Dest                  object\n",
       "Distance             float64\n",
       "TaxiIn               float64\n",
       "TaxiOut              float64\n",
       "Cancelled              int64\n",
       "CancellationCode     float64\n",
       "Diverted               int64\n",
       "CarrierDelay         float64\n",
       "WeatherDelay         float64\n",
       "NASDelay             float64\n",
       "SecurityDelay        float64\n",
       "LateAircraftDelay    float64\n",
       "dtype: object"
      ]
     },
     "execution_count": 209,
     "metadata": {},
     "output_type": "execute_result"
    }
   ],
   "source": [
    "# Get the columns types\n",
    "df.dtypes"
   ]
  },
  {
   "cell_type": "code",
   "execution_count": 210,
   "metadata": {
    "scrolled": true
   },
   "outputs": [
    {
     "data": {
      "text/plain": [
       "Year                     0\n",
       "Month                    0\n",
       "DayofMonth               0\n",
       "DayOfWeek                0\n",
       "DepTime                833\n",
       "CRSDepTime               0\n",
       "ArrTime               1015\n",
       "CRSArrTime               0\n",
       "UniqueCarrier            0\n",
       "FlightNum                0\n",
       "TailNum              75000\n",
       "ActualElapsedTime     1015\n",
       "CRSElapsedTime           0\n",
       "AirTime              75000\n",
       "ArrDelay              1015\n",
       "DepDelay               833\n",
       "Origin                   0\n",
       "Dest                     0\n",
       "Distance               443\n",
       "TaxiIn               75000\n",
       "TaxiOut              75000\n",
       "Cancelled                0\n",
       "CancellationCode     75000\n",
       "Diverted                 0\n",
       "CarrierDelay         75000\n",
       "WeatherDelay         75000\n",
       "NASDelay             75000\n",
       "SecurityDelay        75000\n",
       "LateAircraftDelay    75000\n",
       "dtype: int64"
      ]
     },
     "execution_count": 210,
     "metadata": {},
     "output_type": "execute_result"
    }
   ],
   "source": [
    "# Where are the missing data ?\n",
    "df.isnull().sum()"
   ]
  },
  {
   "cell_type": "code",
   "execution_count": 211,
   "metadata": {},
   "outputs": [],
   "source": [
    "# Make a copy of the original dataframe\n",
    "df_flights = df.copy()"
   ]
  },
  {
   "cell_type": "code",
   "execution_count": 212,
   "metadata": {},
   "outputs": [],
   "source": [
    "# Drop the columns where all elements are missing\n",
    "df_flights.drop('TailNum', axis=1, inplace=True)\n",
    "df_flights.drop('AirTime', axis=1, inplace=True)\n",
    "df_flights.drop('TaxiIn', axis=1, inplace=True)\n",
    "df_flights.drop('TaxiOut', axis=1, inplace=True)\n",
    "df_flights.drop('CancellationCode', axis=1, inplace=True)\n",
    "df_flights.drop('CarrierDelay', axis=1, inplace=True)\n",
    "df_flights.drop('WeatherDelay', axis=1, inplace=True)\n",
    "df_flights.drop('NASDelay', axis=1, inplace=True)\n",
    "df_flights.drop('SecurityDelay', axis=1, inplace=True)\n",
    "df_flights.drop('LateAircraftDelay', axis=1, inplace=True)"
   ]
  },
  {
   "cell_type": "code",
   "execution_count": 213,
   "metadata": {},
   "outputs": [
    {
     "data": {
      "text/plain": [
       "Year                    0\n",
       "Month                   0\n",
       "DayofMonth              0\n",
       "DayOfWeek               0\n",
       "DepTime               833\n",
       "CRSDepTime              0\n",
       "ArrTime              1015\n",
       "CRSArrTime              0\n",
       "UniqueCarrier           0\n",
       "FlightNum               0\n",
       "ActualElapsedTime    1015\n",
       "CRSElapsedTime          0\n",
       "ArrDelay             1015\n",
       "DepDelay              833\n",
       "Origin                  0\n",
       "Dest                    0\n",
       "Distance              443\n",
       "Cancelled               0\n",
       "Diverted                0\n",
       "dtype: int64"
      ]
     },
     "execution_count": 213,
     "metadata": {},
     "output_type": "execute_result"
    }
   ],
   "source": [
    "# Where are the missing data ?\n",
    "df_flights.isnull().sum()"
   ]
  },
  {
   "cell_type": "code",
   "execution_count": 214,
   "metadata": {},
   "outputs": [
    {
     "data": {
      "text/plain": [
       "(75000, 19)"
      ]
     },
     "execution_count": 214,
     "metadata": {},
     "output_type": "execute_result"
    }
   ],
   "source": [
    "df_flights.shape"
   ]
  },
  {
   "cell_type": "code",
   "execution_count": 215,
   "metadata": {},
   "outputs": [
    {
     "data": {
      "text/plain": [
       "Year                    0\n",
       "Month                   0\n",
       "DayofMonth              0\n",
       "DayOfWeek               0\n",
       "DepTime               833\n",
       "CRSDepTime              0\n",
       "ArrTime              1015\n",
       "CRSArrTime              0\n",
       "UniqueCarrier           0\n",
       "FlightNum               0\n",
       "ActualElapsedTime    1015\n",
       "CRSElapsedTime          0\n",
       "ArrDelay             1015\n",
       "DepDelay              833\n",
       "Origin                  0\n",
       "Dest                    0\n",
       "Distance              443\n",
       "Cancelled               0\n",
       "Diverted                0\n",
       "dtype: int64"
      ]
     },
     "execution_count": 215,
     "metadata": {},
     "output_type": "execute_result"
    }
   ],
   "source": [
    "# Check the result\n",
    "df_flights.isnull().sum()"
   ]
  },
  {
   "cell_type": "code",
   "execution_count": 216,
   "metadata": {},
   "outputs": [],
   "source": [
    "# Set the \"Cancelled\" column type to boolean\n",
    "df_flights['Cancelled'] = df_flights['Cancelled'].astype('bool')"
   ]
  },
  {
   "cell_type": "code",
   "execution_count": 217,
   "metadata": {},
   "outputs": [
    {
     "data": {
      "text/plain": [
       "Year                   0\n",
       "Month                  0\n",
       "DayofMonth             0\n",
       "DayOfWeek              0\n",
       "DepTime              833\n",
       "CRSDepTime             0\n",
       "ArrTime              833\n",
       "CRSArrTime             0\n",
       "UniqueCarrier          0\n",
       "FlightNum              0\n",
       "ActualElapsedTime    833\n",
       "CRSElapsedTime         0\n",
       "ArrDelay             833\n",
       "DepDelay             833\n",
       "Origin                 0\n",
       "Dest                   0\n",
       "Distance               3\n",
       "Cancelled              0\n",
       "Diverted               0\n",
       "dtype: int64"
      ]
     },
     "execution_count": 217,
     "metadata": {},
     "output_type": "execute_result"
    }
   ],
   "source": [
    "# How many cancelled flights do we have ?\n",
    "df_flights.query('Cancelled').isnull().sum()"
   ]
  },
  {
   "cell_type": "markdown",
   "metadata": {},
   "source": [
    "So the cancelled flight might be the ones with NaN as `DepTime`, which makes sens. So I keep the remaining lines with NaN."
   ]
  },
  {
   "cell_type": "code",
   "execution_count": 218,
   "metadata": {},
   "outputs": [],
   "source": [
    "# Set the \"Year\", \"Month\" and \"DayOfMonth\" to datetime\n",
    "# Rename the needed columns for the datetime conversion\n",
    "df_flights = df_flights.rename(columns={'Year': 'year', 'Month': 'month', 'DayofMonth': 'day'})\n",
    "\n",
    "# Create a new column as the datetime\n",
    "df_flights['timestamp'] = pd.to_datetime(df_flights[['year', 'month', 'day']])"
   ]
  },
  {
   "cell_type": "code",
   "execution_count": 219,
   "metadata": {},
   "outputs": [],
   "source": [
    "# Drop the previous year, month, day columns we don't need anymore\n",
    "df_flights.drop('year', axis=1, inplace=True)\n",
    "df_flights.drop('month', axis=1, inplace=True)\n",
    "df_flights.drop('day', axis=1, inplace=True)"
   ]
  },
  {
   "cell_type": "code",
   "execution_count": 220,
   "metadata": {
    "scrolled": false
   },
   "outputs": [
    {
     "data": {
      "text/html": [
       "<div>\n",
       "<style scoped>\n",
       "    .dataframe tbody tr th:only-of-type {\n",
       "        vertical-align: middle;\n",
       "    }\n",
       "\n",
       "    .dataframe tbody tr th {\n",
       "        vertical-align: top;\n",
       "    }\n",
       "\n",
       "    .dataframe thead th {\n",
       "        text-align: right;\n",
       "    }\n",
       "</style>\n",
       "<table border=\"1\" class=\"dataframe\">\n",
       "  <thead>\n",
       "    <tr style=\"text-align: right;\">\n",
       "      <th></th>\n",
       "      <th>DayOfWeek</th>\n",
       "      <th>DepTime</th>\n",
       "      <th>CRSDepTime</th>\n",
       "      <th>ArrTime</th>\n",
       "      <th>CRSArrTime</th>\n",
       "      <th>UniqueCarrier</th>\n",
       "      <th>FlightNum</th>\n",
       "      <th>ActualElapsedTime</th>\n",
       "      <th>CRSElapsedTime</th>\n",
       "      <th>ArrDelay</th>\n",
       "      <th>DepDelay</th>\n",
       "      <th>Origin</th>\n",
       "      <th>Dest</th>\n",
       "      <th>Distance</th>\n",
       "      <th>Cancelled</th>\n",
       "      <th>Diverted</th>\n",
       "      <th>timestamp</th>\n",
       "    </tr>\n",
       "  </thead>\n",
       "  <tbody>\n",
       "    <tr>\n",
       "      <th>63702</th>\n",
       "      <td>1</td>\n",
       "      <td>633.0</td>\n",
       "      <td>634</td>\n",
       "      <td>1252.0</td>\n",
       "      <td>1245</td>\n",
       "      <td>AA</td>\n",
       "      <td>1913</td>\n",
       "      <td>259.0</td>\n",
       "      <td>251</td>\n",
       "      <td>7.0</td>\n",
       "      <td>-1.0</td>\n",
       "      <td>SJC</td>\n",
       "      <td>ORD</td>\n",
       "      <td>1829.0</td>\n",
       "      <td>False</td>\n",
       "      <td>0</td>\n",
       "      <td>1992-10-19</td>\n",
       "    </tr>\n",
       "    <tr>\n",
       "      <th>43456</th>\n",
       "      <td>2</td>\n",
       "      <td>2323.0</td>\n",
       "      <td>2020</td>\n",
       "      <td>4.0</td>\n",
       "      <td>2106</td>\n",
       "      <td>DL</td>\n",
       "      <td>585</td>\n",
       "      <td>41.0</td>\n",
       "      <td>46</td>\n",
       "      <td>178.0</td>\n",
       "      <td>183.0</td>\n",
       "      <td>TYS</td>\n",
       "      <td>ATL</td>\n",
       "      <td>152.0</td>\n",
       "      <td>False</td>\n",
       "      <td>0</td>\n",
       "      <td>1990-01-16</td>\n",
       "    </tr>\n",
       "    <tr>\n",
       "      <th>62976</th>\n",
       "      <td>7</td>\n",
       "      <td>849.0</td>\n",
       "      <td>840</td>\n",
       "      <td>1056.0</td>\n",
       "      <td>1052</td>\n",
       "      <td>US</td>\n",
       "      <td>201</td>\n",
       "      <td>127.0</td>\n",
       "      <td>132</td>\n",
       "      <td>4.0</td>\n",
       "      <td>9.0</td>\n",
       "      <td>PIT</td>\n",
       "      <td>MCO</td>\n",
       "      <td>834.0</td>\n",
       "      <td>False</td>\n",
       "      <td>0</td>\n",
       "      <td>1992-12-13</td>\n",
       "    </tr>\n",
       "    <tr>\n",
       "      <th>70579</th>\n",
       "      <td>2</td>\n",
       "      <td>844.0</td>\n",
       "      <td>845</td>\n",
       "      <td>1018.0</td>\n",
       "      <td>1022</td>\n",
       "      <td>UA</td>\n",
       "      <td>968</td>\n",
       "      <td>94.0</td>\n",
       "      <td>97</td>\n",
       "      <td>-4.0</td>\n",
       "      <td>-1.0</td>\n",
       "      <td>ICT</td>\n",
       "      <td>ORD</td>\n",
       "      <td>588.0</td>\n",
       "      <td>False</td>\n",
       "      <td>0</td>\n",
       "      <td>1992-04-07</td>\n",
       "    </tr>\n",
       "    <tr>\n",
       "      <th>25743</th>\n",
       "      <td>1</td>\n",
       "      <td>2005.0</td>\n",
       "      <td>2005</td>\n",
       "      <td>2217.0</td>\n",
       "      <td>2215</td>\n",
       "      <td>EA</td>\n",
       "      <td>110</td>\n",
       "      <td>132.0</td>\n",
       "      <td>130</td>\n",
       "      <td>2.0</td>\n",
       "      <td>0.0</td>\n",
       "      <td>ATL</td>\n",
       "      <td>EWR</td>\n",
       "      <td>745.0</td>\n",
       "      <td>False</td>\n",
       "      <td>0</td>\n",
       "      <td>1989-02-06</td>\n",
       "    </tr>\n",
       "  </tbody>\n",
       "</table>\n",
       "</div>"
      ],
      "text/plain": [
       "       DayOfWeek  DepTime  CRSDepTime  ArrTime  CRSArrTime UniqueCarrier  \\\n",
       "63702          1    633.0         634   1252.0        1245            AA   \n",
       "43456          2   2323.0        2020      4.0        2106            DL   \n",
       "62976          7    849.0         840   1056.0        1052            US   \n",
       "70579          2    844.0         845   1018.0        1022            UA   \n",
       "25743          1   2005.0        2005   2217.0        2215            EA   \n",
       "\n",
       "       FlightNum  ActualElapsedTime  CRSElapsedTime  ArrDelay  DepDelay  \\\n",
       "63702       1913              259.0             251       7.0      -1.0   \n",
       "43456        585               41.0              46     178.0     183.0   \n",
       "62976        201              127.0             132       4.0       9.0   \n",
       "70579        968               94.0              97      -4.0      -1.0   \n",
       "25743        110              132.0             130       2.0       0.0   \n",
       "\n",
       "      Origin Dest  Distance  Cancelled  Diverted  timestamp  \n",
       "63702    SJC  ORD    1829.0      False         0 1992-10-19  \n",
       "43456    TYS  ATL     152.0      False         0 1990-01-16  \n",
       "62976    PIT  MCO     834.0      False         0 1992-12-13  \n",
       "70579    ICT  ORD     588.0      False         0 1992-04-07  \n",
       "25743    ATL  EWR     745.0      False         0 1989-02-06  "
      ]
     },
     "execution_count": 220,
     "metadata": {},
     "output_type": "execute_result"
    }
   ],
   "source": [
    "# View samples\n",
    "df_flights.sample(5)"
   ]
  },
  {
   "cell_type": "code",
   "execution_count": 221,
   "metadata": {},
   "outputs": [
    {
     "data": {
      "text/html": [
       "<div>\n",
       "<style scoped>\n",
       "    .dataframe tbody tr th:only-of-type {\n",
       "        vertical-align: middle;\n",
       "    }\n",
       "\n",
       "    .dataframe tbody tr th {\n",
       "        vertical-align: top;\n",
       "    }\n",
       "\n",
       "    .dataframe thead th {\n",
       "        text-align: right;\n",
       "    }\n",
       "</style>\n",
       "<table border=\"1\" class=\"dataframe\">\n",
       "  <thead>\n",
       "    <tr style=\"text-align: right;\">\n",
       "      <th></th>\n",
       "      <th>DayOfWeek</th>\n",
       "      <th>DepTime</th>\n",
       "      <th>CRSDepTime</th>\n",
       "      <th>ArrTime</th>\n",
       "      <th>CRSArrTime</th>\n",
       "      <th>FlightNum</th>\n",
       "      <th>ActualElapsedTime</th>\n",
       "      <th>CRSElapsedTime</th>\n",
       "      <th>ArrDelay</th>\n",
       "      <th>DepDelay</th>\n",
       "      <th>Distance</th>\n",
       "      <th>Diverted</th>\n",
       "    </tr>\n",
       "  </thead>\n",
       "  <tbody>\n",
       "    <tr>\n",
       "      <th>count</th>\n",
       "      <td>75000.000000</td>\n",
       "      <td>74167.000000</td>\n",
       "      <td>75000.000000</td>\n",
       "      <td>73985.000000</td>\n",
       "      <td>75000.000000</td>\n",
       "      <td>75000.000000</td>\n",
       "      <td>73985.000000</td>\n",
       "      <td>75000.000000</td>\n",
       "      <td>73985.000000</td>\n",
       "      <td>74167.000000</td>\n",
       "      <td>74557.000000</td>\n",
       "      <td>75000.000000</td>\n",
       "    </tr>\n",
       "    <tr>\n",
       "      <th>mean</th>\n",
       "      <td>3.935933</td>\n",
       "      <td>1356.404452</td>\n",
       "      <td>1349.291093</td>\n",
       "      <td>1495.752747</td>\n",
       "      <td>1496.337747</td>\n",
       "      <td>764.782680</td>\n",
       "      <td>109.517321</td>\n",
       "      <td>109.683187</td>\n",
       "      <td>6.425316</td>\n",
       "      <td>6.712069</td>\n",
       "      <td>632.865056</td>\n",
       "      <td>0.002427</td>\n",
       "    </tr>\n",
       "    <tr>\n",
       "      <th>std</th>\n",
       "      <td>1.993787</td>\n",
       "      <td>476.468174</td>\n",
       "      <td>470.616674</td>\n",
       "      <td>493.993749</td>\n",
       "      <td>483.022413</td>\n",
       "      <td>549.033716</td>\n",
       "      <td>64.523552</td>\n",
       "      <td>64.192486</td>\n",
       "      <td>23.424589</td>\n",
       "      <td>20.950645</td>\n",
       "      <td>520.210695</td>\n",
       "      <td>0.049202</td>\n",
       "    </tr>\n",
       "    <tr>\n",
       "      <th>min</th>\n",
       "      <td>1.000000</td>\n",
       "      <td>1.000000</td>\n",
       "      <td>1.000000</td>\n",
       "      <td>1.000000</td>\n",
       "      <td>1.000000</td>\n",
       "      <td>1.000000</td>\n",
       "      <td>13.000000</td>\n",
       "      <td>15.000000</td>\n",
       "      <td>-65.000000</td>\n",
       "      <td>-51.000000</td>\n",
       "      <td>11.000000</td>\n",
       "      <td>0.000000</td>\n",
       "    </tr>\n",
       "    <tr>\n",
       "      <th>25%</th>\n",
       "      <td>2.000000</td>\n",
       "      <td>936.000000</td>\n",
       "      <td>930.000000</td>\n",
       "      <td>1118.000000</td>\n",
       "      <td>1118.000000</td>\n",
       "      <td>336.000000</td>\n",
       "      <td>64.000000</td>\n",
       "      <td>65.000000</td>\n",
       "      <td>-5.000000</td>\n",
       "      <td>0.000000</td>\n",
       "      <td>270.000000</td>\n",
       "      <td>0.000000</td>\n",
       "    </tr>\n",
       "    <tr>\n",
       "      <th>50%</th>\n",
       "      <td>4.000000</td>\n",
       "      <td>1337.000000</td>\n",
       "      <td>1330.000000</td>\n",
       "      <td>1522.000000</td>\n",
       "      <td>1521.000000</td>\n",
       "      <td>651.000000</td>\n",
       "      <td>90.000000</td>\n",
       "      <td>90.000000</td>\n",
       "      <td>1.000000</td>\n",
       "      <td>0.000000</td>\n",
       "      <td>457.000000</td>\n",
       "      <td>0.000000</td>\n",
       "    </tr>\n",
       "    <tr>\n",
       "      <th>75%</th>\n",
       "      <td>6.000000</td>\n",
       "      <td>1744.500000</td>\n",
       "      <td>1735.000000</td>\n",
       "      <td>1920.000000</td>\n",
       "      <td>1915.000000</td>\n",
       "      <td>1097.000000</td>\n",
       "      <td>139.000000</td>\n",
       "      <td>139.000000</td>\n",
       "      <td>11.000000</td>\n",
       "      <td>5.000000</td>\n",
       "      <td>861.000000</td>\n",
       "      <td>0.000000</td>\n",
       "    </tr>\n",
       "    <tr>\n",
       "      <th>max</th>\n",
       "      <td>7.000000</td>\n",
       "      <td>2400.000000</td>\n",
       "      <td>2359.000000</td>\n",
       "      <td>2400.000000</td>\n",
       "      <td>2400.000000</td>\n",
       "      <td>3362.000000</td>\n",
       "      <td>625.000000</td>\n",
       "      <td>625.000000</td>\n",
       "      <td>583.000000</td>\n",
       "      <td>1425.000000</td>\n",
       "      <td>4983.000000</td>\n",
       "      <td>1.000000</td>\n",
       "    </tr>\n",
       "  </tbody>\n",
       "</table>\n",
       "</div>"
      ],
      "text/plain": [
       "          DayOfWeek       DepTime    CRSDepTime       ArrTime    CRSArrTime  \\\n",
       "count  75000.000000  74167.000000  75000.000000  73985.000000  75000.000000   \n",
       "mean       3.935933   1356.404452   1349.291093   1495.752747   1496.337747   \n",
       "std        1.993787    476.468174    470.616674    493.993749    483.022413   \n",
       "min        1.000000      1.000000      1.000000      1.000000      1.000000   \n",
       "25%        2.000000    936.000000    930.000000   1118.000000   1118.000000   \n",
       "50%        4.000000   1337.000000   1330.000000   1522.000000   1521.000000   \n",
       "75%        6.000000   1744.500000   1735.000000   1920.000000   1915.000000   \n",
       "max        7.000000   2400.000000   2359.000000   2400.000000   2400.000000   \n",
       "\n",
       "          FlightNum  ActualElapsedTime  CRSElapsedTime      ArrDelay  \\\n",
       "count  75000.000000       73985.000000    75000.000000  73985.000000   \n",
       "mean     764.782680         109.517321      109.683187      6.425316   \n",
       "std      549.033716          64.523552       64.192486     23.424589   \n",
       "min        1.000000          13.000000       15.000000    -65.000000   \n",
       "25%      336.000000          64.000000       65.000000     -5.000000   \n",
       "50%      651.000000          90.000000       90.000000      1.000000   \n",
       "75%     1097.000000         139.000000      139.000000     11.000000   \n",
       "max     3362.000000         625.000000      625.000000    583.000000   \n",
       "\n",
       "           DepDelay      Distance      Diverted  \n",
       "count  74167.000000  74557.000000  75000.000000  \n",
       "mean       6.712069    632.865056      0.002427  \n",
       "std       20.950645    520.210695      0.049202  \n",
       "min      -51.000000     11.000000      0.000000  \n",
       "25%        0.000000    270.000000      0.000000  \n",
       "50%        0.000000    457.000000      0.000000  \n",
       "75%        5.000000    861.000000      0.000000  \n",
       "max     1425.000000   4983.000000      1.000000  "
      ]
     },
     "execution_count": 221,
     "metadata": {},
     "output_type": "execute_result"
    }
   ],
   "source": [
    "# Statistics summary\n",
    "df_flights.describe()"
   ]
  },
  {
   "cell_type": "markdown",
   "metadata": {},
   "source": [
    "### What is the structure of your dataset?\n",
    "\n",
    "> There are 73546 records of flights, over 5 years. There are time variables (mainly expected times and delays), numeric variables and text variables such are origins, destinations and carriers' names. We also have boolean like information (here as 0 or 1) to know if the flight is canceled or diverted.\n",
    "\n",
    "\n",
    "### What is/are the main feature(s) of interest in your dataset?\n",
    "\n",
    "> I am most interested to see if there are certain destinations or arrival cities that are home to more delays or cancellations ? and potentially why ?\n",
    "\n",
    "### What features in the dataset do you think will help support your investigation into your feature(s) of interest?\n",
    "\n",
    "> For my first feature of interest, looking into `Cancelled` which indicates if the flight has been canceled or not, will be a key. The reason of the cancellation identified as `cancellationCode` might be interesting to have more insights.   \n",
    "Regarding Delaying, I think that arrival delays (`ArrDelay`) will help to support my investigation.  \n",
    "Later, I will dive into cancelation and arrival delays relationships with the arrival cities or destinations here identified as `Dest`.    \n",
    "> For the second one, \"What are the preferred times for flights to occur ?\" : I will focus on departure and arrival time here `DepTime`and `ArrTime`. Then, I will develop an understanding on any changes over the years `Year`."
   ]
  },
  {
   "cell_type": "markdown",
   "metadata": {},
   "source": [
    "## Univariate Exploration\n",
    "\n",
    "In this section, I investigate distributions of the individual variables."
   ]
  },
  {
   "cell_type": "markdown",
   "metadata": {},
   "source": [
    "Looking at the `Canceled` variable. "
   ]
  },
  {
   "cell_type": "code",
   "execution_count": 222,
   "metadata": {},
   "outputs": [],
   "source": [
    "# Get the number of cancelled\n",
    "cancelled = df_flights.query('Cancelled == True')['Cancelled'].count()\n",
    "non_cancelled = df_flights.shape[0] - cancelled"
   ]
  },
  {
   "cell_type": "code",
   "execution_count": 223,
   "metadata": {
    "scrolled": false
   },
   "outputs": [
    {
     "data": {
      "image/png": "[encoded data removed]",
      "text/plain": [
       "<Figure size 432x288 with 1 Axes>"
      ]
     },
     "metadata": {
      "needs_background": "light"
     },
     "output_type": "display_data"
    }
   ],
   "source": [
    "# Create a bar chart of the cancelation state\n",
    "# Use only one color\n",
    "base_color = sb.color_palette()[0]\n",
    "\n",
    "# plot the bar chart\n",
    "cancelled_bar = sb.countplot(data = df_flights, x = 'Cancelled', color = base_color)\n",
    "\n",
    "# Set labels names\n",
    "cancelled_bar.set(title='Flights cancellation 1987 - 1992', xlabel='Cancelled', ylabel='Number of flights')\n",
    "\n",
    "# label the frequencies on the bars\n",
    "# First, calculate non cancelled percentage\n",
    "non_cancelled_percent = '{:0.1f}%'.format(100*non_cancelled/df_flights.shape[0])\n",
    "\n",
    "# calculate the cancelled percentage\n",
    "cancelled_percent = '{:0.1f}%'.format(100*cancelled/df_flights.shape[0])\n",
    "\n",
    "# Set the labels names on the bars\n",
    "plt.text(0, non_cancelled-8, non_cancelled_percent, ha = 'center', color = 'r')\n",
    "plt.text(1, cancelled-8, cancelled_percent, ha = 'center', color = 'r');"
   ]
  },
  {
   "cell_type": "markdown",
   "metadata": {},
   "source": [
    "Now I observe the arrival cities for which flights are cancelled. This is the `Dest` variable."
   ]
  },
  {
   "cell_type": "code",
   "execution_count": 224,
   "metadata": {},
   "outputs": [],
   "source": [
    "# Get the cancelled flight dataframe\n",
    "df_cancelled = df_flights[df_flights['Cancelled'] == True]"
   ]
  },
  {
   "cell_type": "markdown",
   "metadata": {},
   "source": [
    "I want to have a view on the occurences of the cancellation for each arrival city. So I use seaborn function `countplot()` with the `Dest`column from the dataframe."
   ]
  },
  {
   "cell_type": "code",
   "execution_count": 225,
   "metadata": {
    "scrolled": true
   },
   "outputs": [
    {
     "data": {
      "image/png": "[encoded data removed]",
      "text/plain": [
       "<Figure size 1296x2160 with 1 Axes>"
      ]
     },
     "metadata": {
      "needs_background": "light"
     },
     "output_type": "display_data"
    }
   ],
   "source": [
    "# Set the size bigger\n",
    "plt.figure(figsize = [18, 30])\n",
    "\n",
    "# Use only one single color\n",
    "base_color = color = sb.color_palette()[0]\n",
    "\n",
    "# sort\n",
    "cat_order = df_cancelled['Dest'].value_counts().index\n",
    "\n",
    "# plot the bar chart\n",
    "cancelled_cities_plot = sb.countplot(data = df_cancelled, y = 'Dest', color = base_color, order = cat_order)\n",
    "\n",
    "cancelled_cities_plot.set(title='Cancelled Flights per city', xlabel='Number of cancelled flights', ylabel='Cities names code');"
   ]
  },
  {
   "cell_type": "markdown",
   "metadata": {},
   "source": [
    "I plotted along the y parameter because of the huge number of cities I have in the dataframe.  \n",
    "ORD city, which is \"Chicago-O´Hare\" is the most cancelled flight.  \n",
    "The city name mapping with the IATA code is from https://en.wikipedia.org/wiki/List_of_airports_in_the_United_States"
   ]
  },
  {
   "cell_type": "markdown",
   "metadata": {},
   "source": [
    "Digging into this a little bit further, flight cancellation could be linked to technical issues, I mean the carrier. So let's try to see if we have one or two carriers the most associated to the cancellations.   \n",
    "Observation of the `UniqueCarrier` variable."
   ]
  },
  {
   "cell_type": "code",
   "execution_count": 226,
   "metadata": {
    "scrolled": true
   },
   "outputs": [
    {
     "data": {
      "image/png": "[encoded data removed]",
      "text/plain": [
       "<Figure size 720x864 with 1 Axes>"
      ]
     },
     "metadata": {
      "needs_background": "light"
     },
     "output_type": "display_data"
    }
   ],
   "source": [
    "# Set the size bigger\n",
    "plt.figure(figsize = [10, 12])\n",
    "\n",
    "# Use only one single color\n",
    "base_color = color = sb.color_palette()[0]\n",
    "\n",
    "# sort\n",
    "cat_order = df_cancelled['UniqueCarrier'].value_counts().index\n",
    "\n",
    "# plot the bar chart\n",
    "cancelled_carrier_plot = sb.countplot(data = df_cancelled, y = 'UniqueCarrier', color = base_color, order = cat_order)\n",
    "\n",
    "# set titles\n",
    "cancelled_carrier_plot.set(title='Cancelled Flights per carrier', xlabel='Cancellation count', ylabel='Carrier Names');"
   ]
  },
  {
   "cell_type": "markdown",
   "metadata": {},
   "source": [
    "The winner is US which is \"US Airways\". The IATA code explanation : https://en.wikipedia.org/wiki/List_of_airline_codes_(U)"
   ]
  },
  {
   "cell_type": "markdown",
   "metadata": {},
   "source": [
    "Carriers used to be associated with cities. So I will be interesting the bivariate exploration part, to see the relationship between carriers and destinations cities, for the cancelled flights. "
   ]
  },
  {
   "cell_type": "markdown",
   "metadata": {},
   "source": [
    "Now, let's observe the `ArrDelay` variable.   \n",
    "For coherency, I need to use a dataframe with all the cancelled flights removed. "
   ]
  },
  {
   "cell_type": "code",
   "execution_count": 227,
   "metadata": {},
   "outputs": [],
   "source": [
    "# Get a copy of the dataframe we started to clean\n",
    "df_completed_flights = df_flights.copy()"
   ]
  },
  {
   "cell_type": "code",
   "execution_count": 228,
   "metadata": {},
   "outputs": [],
   "source": [
    "# Now we delete the rows where at least one element is missing\n",
    "df_completed_flights.dropna(inplace=True)"
   ]
  },
  {
   "cell_type": "markdown",
   "metadata": {},
   "source": [
    "Now I can plot `ArrDelay`"
   ]
  },
  {
   "cell_type": "code",
   "execution_count": 229,
   "metadata": {
    "scrolled": true
   },
   "outputs": [
    {
     "data": {
      "image/png": "[encoded data removed]",
      "text/plain": [
       "<Figure size 432x288 with 1 Axes>"
      ]
     },
     "metadata": {
      "needs_background": "light"
     },
     "output_type": "display_data"
    }
   ],
   "source": [
    "# basic plot for Arrival delay distribution\n",
    "plt.hist(data = df_completed_flights, x = 'ArrDelay');"
   ]
  },
  {
   "cell_type": "markdown",
   "metadata": {},
   "source": [
    "The graph is right skewed.  \n",
    "I need to find a more appropriate bin. So let's have a look on the default bin-selection used by seaborn `displot` for this case. "
   ]
  },
  {
   "cell_type": "code",
   "execution_count": 230,
   "metadata": {
    "scrolled": false
   },
   "outputs": [
    {
     "data": {
      "image/png": "[encoded data removed]",
      "text/plain": [
       "<Figure size 432x288 with 1 Axes>"
      ]
     },
     "metadata": {
      "needs_background": "light"
     },
     "output_type": "display_data"
    }
   ],
   "source": [
    "# Plot the arrival delays\n",
    "arrdelay_plot = sb.distplot(df_completed_flights['ArrDelay'])\n",
    "\n",
    "# Set labels names\n",
    "arrdelay_plot.set(title='Flights Arrival Delays', xlabel='Delays in Minutes');"
   ]
  },
  {
   "cell_type": "markdown",
   "metadata": {},
   "source": [
    "From the statistic summary above, I know that even if the max delay is 583 minutes, the majority of the values should be around zero, with a min value of -65 minutes.  \n",
    "So let's explore any possibility to have a more adapted bin selection, so I can have a better view on the values around zero."
   ]
  },
  {
   "cell_type": "code",
   "execution_count": 231,
   "metadata": {
    "scrolled": false
   },
   "outputs": [
    {
     "data": {
      "image/png": "[encoded data removed]",
      "text/plain": [
       "<Figure size 432x288 with 1 Axes>"
      ]
     },
     "metadata": {
      "needs_background": "light"
     },
     "output_type": "display_data"
    }
   ],
   "source": [
    "# tentative for a better bin selection\n",
    "# start the range at the min() as observed from the summary statistics\n",
    "bin_edges = np.arange(df_completed_flights['ArrDelay'].min(), df_completed_flights['ArrDelay'].max()+2, 2)\n",
    "\n",
    "# plot the histogram with the bins\n",
    "sb.distplot(df_completed_flights['ArrDelay'], bins = bin_edges, kde = False,\n",
    "            hist_kws = {'alpha' : 1})\n",
    "plt.xlabel('Arrival Delays - minutes');"
   ]
  },
  {
   "cell_type": "markdown",
   "metadata": {},
   "source": [
    "I've plotted using bin width form 0.6 to 15 and finally found out that the default bin-selection from seaborn `displot` offers more readability in this situation. So I choose 2 as bin width."
   ]
  },
  {
   "cell_type": "markdown",
   "metadata": {},
   "source": [
    "My original point was that it is right skewed. So let's zoom on the main bulk of the data throught the use of axis limits."
   ]
  },
  {
   "cell_type": "code",
   "execution_count": 232,
   "metadata": {},
   "outputs": [
    {
     "data": {
      "image/png": "[encoded data removed]",
      "text/plain": [
       "<Figure size 1440x720 with 2 Axes>"
      ]
     },
     "metadata": {
      "needs_background": "light"
     },
     "output_type": "display_data"
    }
   ],
   "source": [
    "# tentative for a better zoom selection\n",
    "# set the figures sizes\n",
    "plt.figure(figsize = [20, 10])\n",
    "\n",
    "# plot the full data with the bin width I found adapted\n",
    "plt.subplot(1, 2, 1)\n",
    "bin_edges = np.arange(df_completed_flights['ArrDelay'].min(), df_completed_flights['ArrDelay'].max()+2, 2)\n",
    "plt.hist(data = df_completed_flights, x = 'ArrDelay', bins = bin_edges)\n",
    "plt.xlabel('Arrival Delays - minutes')\n",
    "\n",
    "# plot another histogram including the zoom\n",
    "plt.subplot(1, 2, 2)\n",
    "bin_edges = np.arange(df_completed_flights['ArrDelay'].min(), df_completed_flights['ArrDelay'].max()+2, 2)\n",
    "plt.hist(data = df_completed_flights, x = 'ArrDelay', bins = bin_edges)\n",
    "\n",
    "# set the  x values limitation for the 2nd histogram. I start at the min() and use 70 as the right limit\n",
    "plt.xlim((df_completed_flights['ArrDelay'].min(), 80))\n",
    "plt.xlabel('Arrival Delays - minutes'); "
   ]
  },
  {
   "cell_type": "markdown",
   "metadata": {},
   "source": [
    "The majority of the delays are between (more and less, an eyeballed) -40 minutes (early arrival) and +80 minutes (late).  \n",
    "This data, as highly skewed, is following a kind of log-normal distribution. A logarithm transformation is not possible here due to the negative values we have. "
   ]
  },
  {
   "cell_type": "markdown",
   "metadata": {},
   "source": [
    "Now let's see if we can grab elements regarding the causes of the outliers, meaning flights with arrival delay more that 80 minutes. "
   ]
  },
  {
   "cell_type": "code",
   "execution_count": 233,
   "metadata": {},
   "outputs": [
    {
     "data": {
      "text/plain": [
       "(1230, 73546, 1.6724227014385553)"
      ]
     },
     "execution_count": 233,
     "metadata": {},
     "output_type": "execute_result"
    }
   ],
   "source": [
    "# getting to the high outliers (Arrival delays > 80 minutes)\n",
    "df_highlate = df_completed_flights.query('ArrDelay > 80')\n",
    "df_highlate.shape[0], df_completed_flights.shape[0], (df_highlate.shape[0] / df_completed_flights.shape[0])*100"
   ]
  },
  {
   "cell_type": "code",
   "execution_count": 234,
   "metadata": {},
   "outputs": [
    {
     "data": {
      "image/png": "[encoded data removed]",
      "text/plain": [
       "<Figure size 1440x720 with 1 Axes>"
      ]
     },
     "metadata": {
      "needs_background": "light"
     },
     "output_type": "display_data"
    }
   ],
   "source": [
    "# I expect to see that the high outliers have all a departure delay\n",
    "\n",
    "# Set a more bigger figure size\n",
    "plt.figure(figsize = [20, 10])\n",
    "\n",
    "# Plot the departure delays\n",
    "depdelay_plot = sb.distplot(df_highlate['DepDelay'])\n",
    "\n",
    "# Set labels names\n",
    "depdelay_plot.set(title='Departure Delays for late flights', xlabel='Delays in Minutes');"
   ]
  },
  {
   "cell_type": "markdown",
   "metadata": {},
   "source": [
    "Strange : some of those flights had a negative departure delays, meaning the flights started in advance"
   ]
  },
  {
   "cell_type": "code",
   "execution_count": 235,
   "metadata": {},
   "outputs": [
    {
     "data": {
      "text/html": [
       "<div>\n",
       "<style scoped>\n",
       "    .dataframe tbody tr th:only-of-type {\n",
       "        vertical-align: middle;\n",
       "    }\n",
       "\n",
       "    .dataframe tbody tr th {\n",
       "        vertical-align: top;\n",
       "    }\n",
       "\n",
       "    .dataframe thead th {\n",
       "        text-align: right;\n",
       "    }\n",
       "</style>\n",
       "<table border=\"1\" class=\"dataframe\">\n",
       "  <thead>\n",
       "    <tr style=\"text-align: right;\">\n",
       "      <th></th>\n",
       "      <th>DayOfWeek</th>\n",
       "      <th>DepTime</th>\n",
       "      <th>CRSDepTime</th>\n",
       "      <th>ArrTime</th>\n",
       "      <th>CRSArrTime</th>\n",
       "      <th>UniqueCarrier</th>\n",
       "      <th>FlightNum</th>\n",
       "      <th>ActualElapsedTime</th>\n",
       "      <th>CRSElapsedTime</th>\n",
       "      <th>ArrDelay</th>\n",
       "      <th>DepDelay</th>\n",
       "      <th>Origin</th>\n",
       "      <th>Dest</th>\n",
       "      <th>Distance</th>\n",
       "      <th>Cancelled</th>\n",
       "      <th>Diverted</th>\n",
       "      <th>timestamp</th>\n",
       "    </tr>\n",
       "  </thead>\n",
       "  <tbody>\n",
       "    <tr>\n",
       "      <th>4649</th>\n",
       "      <td>1</td>\n",
       "      <td>625.0</td>\n",
       "      <td>627</td>\n",
       "      <td>1211.0</td>\n",
       "      <td>825</td>\n",
       "      <td>PS</td>\n",
       "      <td>1698</td>\n",
       "      <td>346.0</td>\n",
       "      <td>118</td>\n",
       "      <td>226.0</td>\n",
       "      <td>-2.0</td>\n",
       "      <td>PSC</td>\n",
       "      <td>SFO</td>\n",
       "      <td>620.0</td>\n",
       "      <td>False</td>\n",
       "      <td>0</td>\n",
       "      <td>1988-02-08</td>\n",
       "    </tr>\n",
       "    <tr>\n",
       "      <th>33311</th>\n",
       "      <td>4</td>\n",
       "      <td>927.0</td>\n",
       "      <td>930</td>\n",
       "      <td>1215.0</td>\n",
       "      <td>1052</td>\n",
       "      <td>UA</td>\n",
       "      <td>1704</td>\n",
       "      <td>168.0</td>\n",
       "      <td>82</td>\n",
       "      <td>83.0</td>\n",
       "      <td>-3.0</td>\n",
       "      <td>LAX</td>\n",
       "      <td>SFO</td>\n",
       "      <td>337.0</td>\n",
       "      <td>False</td>\n",
       "      <td>0</td>\n",
       "      <td>1990-04-19</td>\n",
       "    </tr>\n",
       "    <tr>\n",
       "      <th>34599</th>\n",
       "      <td>7</td>\n",
       "      <td>1614.0</td>\n",
       "      <td>1615</td>\n",
       "      <td>1921.0</td>\n",
       "      <td>1730</td>\n",
       "      <td>US</td>\n",
       "      <td>769</td>\n",
       "      <td>187.0</td>\n",
       "      <td>75</td>\n",
       "      <td>111.0</td>\n",
       "      <td>-1.0</td>\n",
       "      <td>BWI</td>\n",
       "      <td>UCA</td>\n",
       "      <td>282.0</td>\n",
       "      <td>False</td>\n",
       "      <td>0</td>\n",
       "      <td>1990-09-16</td>\n",
       "    </tr>\n",
       "    <tr>\n",
       "      <th>36055</th>\n",
       "      <td>1</td>\n",
       "      <td>859.0</td>\n",
       "      <td>900</td>\n",
       "      <td>1611.0</td>\n",
       "      <td>1446</td>\n",
       "      <td>AA</td>\n",
       "      <td>88</td>\n",
       "      <td>312.0</td>\n",
       "      <td>226</td>\n",
       "      <td>85.0</td>\n",
       "      <td>-1.0</td>\n",
       "      <td>SAN</td>\n",
       "      <td>ORD</td>\n",
       "      <td>1723.0</td>\n",
       "      <td>False</td>\n",
       "      <td>0</td>\n",
       "      <td>1990-03-05</td>\n",
       "    </tr>\n",
       "    <tr>\n",
       "      <th>40432</th>\n",
       "      <td>4</td>\n",
       "      <td>1343.0</td>\n",
       "      <td>1345</td>\n",
       "      <td>1631.0</td>\n",
       "      <td>1445</td>\n",
       "      <td>US</td>\n",
       "      <td>1109</td>\n",
       "      <td>168.0</td>\n",
       "      <td>60</td>\n",
       "      <td>106.0</td>\n",
       "      <td>-2.0</td>\n",
       "      <td>ROC</td>\n",
       "      <td>EWR</td>\n",
       "      <td>246.0</td>\n",
       "      <td>False</td>\n",
       "      <td>0</td>\n",
       "      <td>1990-04-19</td>\n",
       "    </tr>\n",
       "    <tr>\n",
       "      <th>53895</th>\n",
       "      <td>2</td>\n",
       "      <td>1255.0</td>\n",
       "      <td>1256</td>\n",
       "      <td>1550.0</td>\n",
       "      <td>1358</td>\n",
       "      <td>AA</td>\n",
       "      <td>1365</td>\n",
       "      <td>235.0</td>\n",
       "      <td>122</td>\n",
       "      <td>112.0</td>\n",
       "      <td>-1.0</td>\n",
       "      <td>RDU</td>\n",
       "      <td>ORD</td>\n",
       "      <td>647.0</td>\n",
       "      <td>False</td>\n",
       "      <td>0</td>\n",
       "      <td>1991-09-03</td>\n",
       "    </tr>\n",
       "    <tr>\n",
       "      <th>60079</th>\n",
       "      <td>5</td>\n",
       "      <td>1816.0</td>\n",
       "      <td>1817</td>\n",
       "      <td>2143.0</td>\n",
       "      <td>1950</td>\n",
       "      <td>UA</td>\n",
       "      <td>27</td>\n",
       "      <td>207.0</td>\n",
       "      <td>93</td>\n",
       "      <td>113.0</td>\n",
       "      <td>-1.0</td>\n",
       "      <td>BOS</td>\n",
       "      <td>IAD</td>\n",
       "      <td>413.0</td>\n",
       "      <td>False</td>\n",
       "      <td>0</td>\n",
       "      <td>1992-07-10</td>\n",
       "    </tr>\n",
       "    <tr>\n",
       "      <th>63054</th>\n",
       "      <td>5</td>\n",
       "      <td>703.0</td>\n",
       "      <td>704</td>\n",
       "      <td>932.0</td>\n",
       "      <td>809</td>\n",
       "      <td>TW</td>\n",
       "      <td>523</td>\n",
       "      <td>149.0</td>\n",
       "      <td>65</td>\n",
       "      <td>83.0</td>\n",
       "      <td>-1.0</td>\n",
       "      <td>IND</td>\n",
       "      <td>STL</td>\n",
       "      <td>229.0</td>\n",
       "      <td>False</td>\n",
       "      <td>0</td>\n",
       "      <td>1992-04-10</td>\n",
       "    </tr>\n",
       "    <tr>\n",
       "      <th>64569</th>\n",
       "      <td>1</td>\n",
       "      <td>706.0</td>\n",
       "      <td>707</td>\n",
       "      <td>921.0</td>\n",
       "      <td>754</td>\n",
       "      <td>TW</td>\n",
       "      <td>355</td>\n",
       "      <td>135.0</td>\n",
       "      <td>47</td>\n",
       "      <td>87.0</td>\n",
       "      <td>-1.0</td>\n",
       "      <td>PBI</td>\n",
       "      <td>MCO</td>\n",
       "      <td>142.0</td>\n",
       "      <td>False</td>\n",
       "      <td>0</td>\n",
       "      <td>1992-10-26</td>\n",
       "    </tr>\n",
       "    <tr>\n",
       "      <th>69903</th>\n",
       "      <td>2</td>\n",
       "      <td>816.0</td>\n",
       "      <td>817</td>\n",
       "      <td>1128.0</td>\n",
       "      <td>929</td>\n",
       "      <td>UA</td>\n",
       "      <td>593</td>\n",
       "      <td>192.0</td>\n",
       "      <td>72</td>\n",
       "      <td>119.0</td>\n",
       "      <td>-1.0</td>\n",
       "      <td>ORD</td>\n",
       "      <td>DSM</td>\n",
       "      <td>299.0</td>\n",
       "      <td>False</td>\n",
       "      <td>0</td>\n",
       "      <td>1992-12-29</td>\n",
       "    </tr>\n",
       "  </tbody>\n",
       "</table>\n",
       "</div>"
      ],
      "text/plain": [
       "       DayOfWeek  DepTime  CRSDepTime  ArrTime  CRSArrTime UniqueCarrier  \\\n",
       "4649           1    625.0         627   1211.0         825            PS   \n",
       "33311          4    927.0         930   1215.0        1052            UA   \n",
       "34599          7   1614.0        1615   1921.0        1730            US   \n",
       "36055          1    859.0         900   1611.0        1446            AA   \n",
       "40432          4   1343.0        1345   1631.0        1445            US   \n",
       "53895          2   1255.0        1256   1550.0        1358            AA   \n",
       "60079          5   1816.0        1817   2143.0        1950            UA   \n",
       "63054          5    703.0         704    932.0         809            TW   \n",
       "64569          1    706.0         707    921.0         754            TW   \n",
       "69903          2    816.0         817   1128.0         929            UA   \n",
       "\n",
       "       FlightNum  ActualElapsedTime  CRSElapsedTime  ArrDelay  DepDelay  \\\n",
       "4649        1698              346.0             118     226.0      -2.0   \n",
       "33311       1704              168.0              82      83.0      -3.0   \n",
       "34599        769              187.0              75     111.0      -1.0   \n",
       "36055         88              312.0             226      85.0      -1.0   \n",
       "40432       1109              168.0              60     106.0      -2.0   \n",
       "53895       1365              235.0             122     112.0      -1.0   \n",
       "60079         27              207.0              93     113.0      -1.0   \n",
       "63054        523              149.0              65      83.0      -1.0   \n",
       "64569        355              135.0              47      87.0      -1.0   \n",
       "69903        593              192.0              72     119.0      -1.0   \n",
       "\n",
       "      Origin Dest  Distance  Cancelled  Diverted  timestamp  \n",
       "4649     PSC  SFO     620.0      False         0 1988-02-08  \n",
       "33311    LAX  SFO     337.0      False         0 1990-04-19  \n",
       "34599    BWI  UCA     282.0      False         0 1990-09-16  \n",
       "36055    SAN  ORD    1723.0      False         0 1990-03-05  \n",
       "40432    ROC  EWR     246.0      False         0 1990-04-19  \n",
       "53895    RDU  ORD     647.0      False         0 1991-09-03  \n",
       "60079    BOS  IAD     413.0      False         0 1992-07-10  \n",
       "63054    IND  STL     229.0      False         0 1992-04-10  \n",
       "64569    PBI  MCO     142.0      False         0 1992-10-26  \n",
       "69903    ORD  DSM     299.0      False         0 1992-12-29  "
      ]
     },
     "execution_count": 235,
     "metadata": {},
     "output_type": "execute_result"
    }
   ],
   "source": [
    "# The flights started in advance, but arrived late !\n",
    "df_highlate.query('DepDelay < 0')"
   ]
  },
  {
   "cell_type": "markdown",
   "metadata": {},
   "source": [
    "This is not clear.  It might have someting to do with geography, cities positioning maybe. So let's move on to the relations with the cities."
   ]
  },
  {
   "cell_type": "markdown",
   "metadata": {},
   "source": [
    "### Discuss the distribution(s) of your variable(s) of interest. Were there any unusual points? Did you need to perform any transformations?\n",
    "\n",
    "> 1st variable : `Cancelled`  \n",
    "This is a categorical variable with 2 states, True of False. The first relevant information here is the proportion of the cancelled flights versus the ones really performed. I saw very low 1.1% of cancelled flights, which indeed is still important in the flight industry.  \n",
    "\n",
    "> 2nd variable : `Dest` as destination cities.   \n",
    "The second information I found out visually is the destination city with the most cancelled flight : ORD for \"Chicago-O´Hare\".   \n",
    "I also saw that US Airways is the carrier (`Uniquecarrier` variable) with the most cancelled flights.   \n",
    "\n",
    "> 3rd variable : `ArrDelay`   \n",
    "At the first plot, i found an histogram which is right skewed. I tried to find an appropriate bin width for the histogram visualization. Then I zoomed on the main bulk of the data through the use of axis limits.\n",
    "\n",
    "### Of the features you investigated, were there any unusual distributions? Did you perform any operations on the data to tidy, adjust, or change the form of the data? If so, why did you do this?\n",
    "\n",
    "> `Cancelled` : I converted the data type to boolean. It was int64 with 0 or 1. Boolean True or False was more easy to understand information, especially on the graph, but also for data exploration by code.  \n",
    "\n",
    "> Regarding `ArrDelay`: First, from the dataset, I removed all the rows related to cancelled flights. I did not perform any specific operations on the arrival delay data, which were alreay in minutes. "
   ]
  },
  {
   "cell_type": "markdown",
   "metadata": {},
   "source": [
    "## Bivariate Exploration"
   ]
  },
  {
   "cell_type": "markdown",
   "metadata": {},
   "source": [
    "For cancelled flight, I am looking for the relationship between the carriers and the arrival cities. This is as further exploration regarding the arrival cities with the most cancelled flights.   \n",
    "For simplification and more accurate analysis, I decide to focus on the top five destinations cities for cancelled flights identified during the univariate exploration : ORD (Chicago), ATL (Atlanta), EWR (Newark), LGA (New York) and BOS (Boston)."
   ]
  },
  {
   "cell_type": "code",
   "execution_count": 236,
   "metadata": {},
   "outputs": [],
   "source": [
    "# Restrict the dataframe to the choosen airports\n",
    "\n",
    "# set the list of the choosen airports\n",
    "top_dest = ['ORD', 'ATL', 'AWR', 'LGA', 'BOS']\n",
    "\n",
    "# Create the dataframe\n",
    "df_5_cancelled = df_cancelled.query('Dest in @top_dest')"
   ]
  },
  {
   "cell_type": "markdown",
   "metadata": {},
   "source": [
    "Now I visualize their relationships with the carriers."
   ]
  },
  {
   "cell_type": "code",
   "execution_count": 274,
   "metadata": {},
   "outputs": [
    {
     "data": {
      "image/png": "[encoded data removed]",
      "text/plain": [
       "<Figure size 720x432 with 1 Axes>"
      ]
     },
     "metadata": {
      "needs_background": "light"
     },
     "output_type": "display_data"
    }
   ],
   "source": [
    "# Set the plot size\n",
    "fig = plt.figure(figsize = [10, 6])\n",
    "\n",
    "# use the jitter from reglot\n",
    "plt.scatter(data = df_5_cancelled, x = 'UniqueCarrier', y='Dest', alpha = 1/5)\n",
    "\n",
    "fig.suptitle('Carriers and cities with the most cancelled flights', fontsize=12)\n",
    "\n",
    "# set x and y labels\n",
    "plt.xlabel('Unique Carriers codes')\n",
    "plt.ylabel('Destination Airport codes');"
   ]
  },
  {
   "cell_type": "markdown",
   "metadata": {},
   "source": [
    "For ORD (Chicago) arrival airport, AA (American Airlines) and UA (United Airlines) are the carriers with the most cancelled flights.   \n",
    "For BOS (Boston) arrival airport, US (US Airways) is the winner.   \n",
    "For LGA (New York) arrival airport, US (US Airways) is also the one with the most cancelled flights.   \n",
    "for ATL (Atlanta) arrival airport, EA (Easten Airlines) and DL (Delta Airlines) are the carriers with the most cancelled flights.  "
   ]
  },
  {
   "cell_type": "markdown",
   "metadata": {},
   "source": [
    "I am also looking for the destinations which are home for more delays. So let's check the cities with the most occurences of delays."
   ]
  },
  {
   "cell_type": "code",
   "execution_count": 238,
   "metadata": {},
   "outputs": [],
   "source": [
    "# focus on the cities where ArrDelay > 0\n",
    "df_delayed = df_completed_flights.query('ArrDelay > 0')"
   ]
  },
  {
   "cell_type": "markdown",
   "metadata": {},
   "source": [
    "What are the top destination cities where we have the most delayed flights ?"
   ]
  },
  {
   "cell_type": "code",
   "execution_count": 270,
   "metadata": {},
   "outputs": [
    {
     "data": {
      "text/plain": [
       "ORD    2135\n",
       "ATL    1820\n",
       "DFW    1772\n",
       "LAX    1310\n",
       "DEN    1096\n",
       "Name: Dest, dtype: int64"
      ]
     },
     "execution_count": 270,
     "metadata": {},
     "output_type": "execute_result"
    }
   ],
   "source": [
    "df_delayed.Dest.value_counts().head()"
   ]
  },
  {
   "cell_type": "code",
   "execution_count": 253,
   "metadata": {},
   "outputs": [],
   "source": [
    "# restric the dataframe to the top 5\n",
    "#delayed_topcities = ['ORD', 'ATL', 'DFW', 'LAX', 'DEN']\n",
    "#df_delayed_topcities = df_delayed.query('Dest in @delayed_topcities')"
   ]
  },
  {
   "cell_type": "markdown",
   "metadata": {},
   "source": [
    "As a bivariate exploration, let's find out which are the top 3 carriers associated with all the arrival cities with delayed flights."
   ]
  },
  {
   "cell_type": "markdown",
   "metadata": {},
   "source": [
    "I plot the relationships using a scatterplot. It seems the most simple way to assess the relationship I am looking for at this stage.   \n",
    "As I have too many cities, for visualization clarity, I choose to not display the cities names along the y axis. "
   ]
  },
  {
   "cell_type": "code",
   "execution_count": 273,
   "metadata": {},
   "outputs": [
    {
     "data": {
      "text/plain": [
       "[]"
      ]
     },
     "execution_count": 273,
     "metadata": {},
     "output_type": "execute_result"
    },
    {
     "data": {
      "image/png": "[encoded data removed]",
      "text/plain": [
       "<Figure size 1080x576 with 1 Axes>"
      ]
     },
     "metadata": {
      "needs_background": "light"
     },
     "output_type": "display_data"
    }
   ],
   "source": [
    "# Relationship between top 5 arrival cities for delays and carriers\n",
    "\n",
    "# set the graph size\n",
    "fig = plt.figure(figsize = [15, 8])\n",
    "\n",
    "# scatterplot\n",
    "plt.scatter(data = df_delayed, x = 'UniqueCarrier', y = 'Dest')\n",
    "\n",
    "# set x and y labels\n",
    "plt.xlabel('Unique Carriers codes')\n",
    "plt.ylabel('Destination Airport codes')\n",
    "\n",
    "# Set the plot title\n",
    "fig.suptitle('Most delayed carriers', fontsize=12)\n",
    "\n",
    "# to not display the cities names on the y axis\n",
    "# found it here : https://stackoverflow.com/questions/12444716/how-do-i-set-the-figure-title-and-axes-labels-font-size-in-matplotlib\n",
    "cur_axes = fig.gca()\n",
    "# cur_axes.axes.get_xaxis().set_ticklabels([])\n",
    "cur_axes.axes.get_yaxis().set_ticklabels([])"
   ]
  },
  {
   "cell_type": "markdown",
   "metadata": {},
   "source": [
    "Visually, I am looking for the lines with the most points.   \n",
    "For all the arrival cities with delays, here the top three careers which are the mostly late : AA (American Airlines), US (US Airways), DL (Delta Airlines)."
   ]
  },
  {
   "cell_type": "markdown",
   "metadata": {},
   "source": [
    "### Talk about some of the relationships you observed in this part of the investigation. How did the feature(s) of interest vary with other features in the dataset?\n",
    "\n",
    "> First I observed the relationship between the carriers and the cities with the most cancelled flight. I found out that :   \n",
    "- For ORD (Chicago) arrival airport, AA (American Airlines) and UA (United Airlines) are the carriers with the most cancelled flights.\n",
    "- For BOS (Boston) arrival airport, US (US Airways) is the winner.\n",
    "- For LGA (New York) arrival airport, US (US Airways) is also the one with the most cancelled flights.\n",
    "- for ATL (Atlanta) arrival airport, EA (Easten Airlines) and DL (Delta Airlines) are the carriers with the most cancelled flights. \n",
    "\n",
    "Considering that these are not numeric variables, there is no variation between the features but just an accumulation of points each time we have an association.\n",
    "### Did you observe any interesting relationships between the other features (not the main feature(s) of interest)?\n",
    "\n",
    "> Yes, between the cities and the carriers, both for cancelled flights and delayed flights. For delayed flights, I've identified the top three careers which are the mostly late : AA (American Airlines), US (US Airways), DL (Delta Airlines)."
   ]
  },
  {
   "cell_type": "markdown",
   "metadata": {},
   "source": [
    "## Multivariate Exploration\n",
    "\n",
    "> Create plots of three or more variables to investigate your data even\n",
    "further. Make sure that your investigations are justified, and follow from\n",
    "your work in the previous sections."
   ]
  },
  {
   "cell_type": "code",
   "execution_count": null,
   "metadata": {},
   "outputs": [],
   "source": []
  },
  {
   "cell_type": "markdown",
   "metadata": {},
   "source": [
    "### Talk about some of the relationships you observed in this part of the investigation. Were there features that strengthened each other in terms of looking at your feature(s) of interest?\n",
    "\n",
    "> Your answer here!\n",
    "\n",
    "### Were there any interesting or surprising interactions between features?\n",
    "\n",
    "> Your answer here!"
   ]
  },
  {
   "cell_type": "markdown",
   "metadata": {},
   "source": [
    "> At the end of your report, make sure that you export the notebook as an\n",
    "html file from the `File > Download as... > HTML` menu. Make sure you keep\n",
    "track of where the exported file goes, so you can put it in the same folder\n",
    "as this notebook for project submission. Also, make sure you remove all of\n",
    "the quote-formatted guide notes like this one before you finish your report!"
   ]
  },
  {
   "cell_type": "code",
   "execution_count": null,
   "metadata": {},
   "outputs": [],
   "source": []
  }
 ],
 "metadata": {
  "kernelspec": {
   "display_name": "Python 3",
   "language": "python",
   "name": "python3"
  },
  "language_info": {
   "codemirror_mode": {
    "name": "ipython",
    "version": 3
   },
   "file_extension": ".py",
   "mimetype": "text/x-python",
   "name": "python",
   "nbconvert_exporter": "python",
   "pygments_lexer": "ipython3",
   "version": "3.6.6"
  }
 },
 "nbformat": 4,
 "nbformat_minor": 2
}

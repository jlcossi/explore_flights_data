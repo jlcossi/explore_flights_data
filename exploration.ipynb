{
 "cells": [
  {
   "cell_type": "markdown",
   "metadata": {},
   "source": [
    "# Flights data exploration\n",
    "## by Jean-Luc COSSI\n",
    "\n",
    "## Preliminary Wrangling\n",
    "\n",
    "> I use Python visualization libraries to systematically explore \"Reporting Carrier On-Time Performance\" for several years. Those data files have been selected from http://stat-computing.org/dataexpo/2009/the-data.html.  \n",
    "A detailed presentation of the data is available here https://www.transtats.bts.gov/Fields.asp?Table_ID=236"
   ]
  },
  {
   "cell_type": "code",
   "execution_count": 1,
   "metadata": {},
   "outputs": [],
   "source": [
    "# import all packages and set plots to be embedded inline\n",
    "import numpy as np\n",
    "import pandas as pd\n",
    "import matplotlib.pyplot as plt\n",
    "import seaborn as sb\n",
    "import datetime, time\n",
    "\n",
    "%matplotlib inline"
   ]
  },
  {
   "cell_type": "markdown",
   "metadata": {},
   "source": [
    "As the original files were too big, I created a random sample of the original files I chose to use."
   ]
  },
  {
   "cell_type": "markdown",
   "metadata": {},
   "source": [
    "> Load in the dataset and describe its properties. We motivate our exploration goals through this section."
   ]
  },
  {
   "cell_type": "code",
   "execution_count": 2,
   "metadata": {},
   "outputs": [],
   "source": [
    "# load data files\n",
    "df_1987 = pd.read_csv('data/1988_sample.csv')\n",
    "df_1989 = pd.read_csv('data/1989_sample.csv')\n",
    "df_1990 = pd.read_csv('data/1990_sample.csv')\n",
    "df_1991 = pd.read_csv('data/1991_sample.csv')\n",
    "df_1992 = pd.read_csv('data/1992_sample.csv')"
   ]
  },
  {
   "cell_type": "code",
   "execution_count": 3,
   "metadata": {},
   "outputs": [],
   "source": [
    "# concat all into one dafaframe\n",
    "df = pd.concat([df_1987, df_1989, df_1990, df_1991, df_1992], ignore_index=True)"
   ]
  },
  {
   "cell_type": "code",
   "execution_count": 4,
   "metadata": {},
   "outputs": [
    {
     "data": {
      "text/plain": [
       "(75000, 29)"
      ]
     },
     "execution_count": 4,
     "metadata": {},
     "output_type": "execute_result"
    }
   ],
   "source": [
    "# Get the dataframe size\n",
    "df.shape"
   ]
  },
  {
   "cell_type": "code",
   "execution_count": 5,
   "metadata": {},
   "outputs": [
    {
     "data": {
      "text/html": [
       "<div>\n",
       "<style scoped>\n",
       "    .dataframe tbody tr th:only-of-type {\n",
       "        vertical-align: middle;\n",
       "    }\n",
       "\n",
       "    .dataframe tbody tr th {\n",
       "        vertical-align: top;\n",
       "    }\n",
       "\n",
       "    .dataframe thead th {\n",
       "        text-align: right;\n",
       "    }\n",
       "</style>\n",
       "<table border=\"1\" class=\"dataframe\">\n",
       "  <thead>\n",
       "    <tr style=\"text-align: right;\">\n",
       "      <th></th>\n",
       "      <th>Year</th>\n",
       "      <th>Month</th>\n",
       "      <th>DayofMonth</th>\n",
       "      <th>DayOfWeek</th>\n",
       "      <th>DepTime</th>\n",
       "      <th>CRSDepTime</th>\n",
       "      <th>ArrTime</th>\n",
       "      <th>CRSArrTime</th>\n",
       "      <th>UniqueCarrier</th>\n",
       "      <th>FlightNum</th>\n",
       "      <th>...</th>\n",
       "      <th>TaxiIn</th>\n",
       "      <th>TaxiOut</th>\n",
       "      <th>Cancelled</th>\n",
       "      <th>CancellationCode</th>\n",
       "      <th>Diverted</th>\n",
       "      <th>CarrierDelay</th>\n",
       "      <th>WeatherDelay</th>\n",
       "      <th>NASDelay</th>\n",
       "      <th>SecurityDelay</th>\n",
       "      <th>LateAircraftDelay</th>\n",
       "    </tr>\n",
       "  </thead>\n",
       "  <tbody>\n",
       "    <tr>\n",
       "      <th>26198</th>\n",
       "      <td>1989</td>\n",
       "      <td>2</td>\n",
       "      <td>4</td>\n",
       "      <td>6</td>\n",
       "      <td>817.0</td>\n",
       "      <td>817</td>\n",
       "      <td>1030.0</td>\n",
       "      <td>1030</td>\n",
       "      <td>DL</td>\n",
       "      <td>439</td>\n",
       "      <td>...</td>\n",
       "      <td>NaN</td>\n",
       "      <td>NaN</td>\n",
       "      <td>0</td>\n",
       "      <td>NaN</td>\n",
       "      <td>0</td>\n",
       "      <td>NaN</td>\n",
       "      <td>NaN</td>\n",
       "      <td>NaN</td>\n",
       "      <td>NaN</td>\n",
       "      <td>NaN</td>\n",
       "    </tr>\n",
       "    <tr>\n",
       "      <th>16427</th>\n",
       "      <td>1989</td>\n",
       "      <td>8</td>\n",
       "      <td>8</td>\n",
       "      <td>2</td>\n",
       "      <td>1528.0</td>\n",
       "      <td>1510</td>\n",
       "      <td>1609.0</td>\n",
       "      <td>1548</td>\n",
       "      <td>US</td>\n",
       "      <td>2864</td>\n",
       "      <td>...</td>\n",
       "      <td>NaN</td>\n",
       "      <td>NaN</td>\n",
       "      <td>0</td>\n",
       "      <td>NaN</td>\n",
       "      <td>0</td>\n",
       "      <td>NaN</td>\n",
       "      <td>NaN</td>\n",
       "      <td>NaN</td>\n",
       "      <td>NaN</td>\n",
       "      <td>NaN</td>\n",
       "    </tr>\n",
       "    <tr>\n",
       "      <th>40095</th>\n",
       "      <td>1990</td>\n",
       "      <td>6</td>\n",
       "      <td>15</td>\n",
       "      <td>5</td>\n",
       "      <td>1142.0</td>\n",
       "      <td>1140</td>\n",
       "      <td>1249.0</td>\n",
       "      <td>1243</td>\n",
       "      <td>DL</td>\n",
       "      <td>548</td>\n",
       "      <td>...</td>\n",
       "      <td>NaN</td>\n",
       "      <td>NaN</td>\n",
       "      <td>0</td>\n",
       "      <td>NaN</td>\n",
       "      <td>0</td>\n",
       "      <td>NaN</td>\n",
       "      <td>NaN</td>\n",
       "      <td>NaN</td>\n",
       "      <td>NaN</td>\n",
       "      <td>NaN</td>\n",
       "    </tr>\n",
       "    <tr>\n",
       "      <th>56325</th>\n",
       "      <td>1991</td>\n",
       "      <td>6</td>\n",
       "      <td>3</td>\n",
       "      <td>1</td>\n",
       "      <td>2030.0</td>\n",
       "      <td>2030</td>\n",
       "      <td>2209.0</td>\n",
       "      <td>2215</td>\n",
       "      <td>WN</td>\n",
       "      <td>660</td>\n",
       "      <td>...</td>\n",
       "      <td>NaN</td>\n",
       "      <td>NaN</td>\n",
       "      <td>0</td>\n",
       "      <td>NaN</td>\n",
       "      <td>0</td>\n",
       "      <td>NaN</td>\n",
       "      <td>NaN</td>\n",
       "      <td>NaN</td>\n",
       "      <td>NaN</td>\n",
       "      <td>NaN</td>\n",
       "    </tr>\n",
       "    <tr>\n",
       "      <th>64794</th>\n",
       "      <td>1992</td>\n",
       "      <td>3</td>\n",
       "      <td>23</td>\n",
       "      <td>1</td>\n",
       "      <td>1330.0</td>\n",
       "      <td>1315</td>\n",
       "      <td>1633.0</td>\n",
       "      <td>1549</td>\n",
       "      <td>AA</td>\n",
       "      <td>528</td>\n",
       "      <td>...</td>\n",
       "      <td>NaN</td>\n",
       "      <td>NaN</td>\n",
       "      <td>0</td>\n",
       "      <td>NaN</td>\n",
       "      <td>0</td>\n",
       "      <td>NaN</td>\n",
       "      <td>NaN</td>\n",
       "      <td>NaN</td>\n",
       "      <td>NaN</td>\n",
       "      <td>NaN</td>\n",
       "    </tr>\n",
       "  </tbody>\n",
       "</table>\n",
       "<p>5 rows × 29 columns</p>\n",
       "</div>"
      ],
      "text/plain": [
       "       Year  Month  DayofMonth  DayOfWeek  DepTime  CRSDepTime  ArrTime  \\\n",
       "26198  1989      2           4          6    817.0         817   1030.0   \n",
       "16427  1989      8           8          2   1528.0        1510   1609.0   \n",
       "40095  1990      6          15          5   1142.0        1140   1249.0   \n",
       "56325  1991      6           3          1   2030.0        2030   2209.0   \n",
       "64794  1992      3          23          1   1330.0        1315   1633.0   \n",
       "\n",
       "       CRSArrTime UniqueCarrier  FlightNum        ...          TaxiIn  \\\n",
       "26198        1030            DL        439        ...             NaN   \n",
       "16427        1548            US       2864        ...             NaN   \n",
       "40095        1243            DL        548        ...             NaN   \n",
       "56325        2215            WN        660        ...             NaN   \n",
       "64794        1549            AA        528        ...             NaN   \n",
       "\n",
       "       TaxiOut  Cancelled  CancellationCode  Diverted  CarrierDelay  \\\n",
       "26198      NaN          0               NaN         0           NaN   \n",
       "16427      NaN          0               NaN         0           NaN   \n",
       "40095      NaN          0               NaN         0           NaN   \n",
       "56325      NaN          0               NaN         0           NaN   \n",
       "64794      NaN          0               NaN         0           NaN   \n",
       "\n",
       "      WeatherDelay NASDelay  SecurityDelay  LateAircraftDelay  \n",
       "26198          NaN      NaN            NaN                NaN  \n",
       "16427          NaN      NaN            NaN                NaN  \n",
       "40095          NaN      NaN            NaN                NaN  \n",
       "56325          NaN      NaN            NaN                NaN  \n",
       "64794          NaN      NaN            NaN                NaN  \n",
       "\n",
       "[5 rows x 29 columns]"
      ]
     },
     "execution_count": 5,
     "metadata": {},
     "output_type": "execute_result"
    }
   ],
   "source": [
    "# Get a view on some values\n",
    "df.sample(5)"
   ]
  },
  {
   "cell_type": "markdown",
   "metadata": {},
   "source": [
    "Observation: there are missing data in some columns."
   ]
  },
  {
   "cell_type": "code",
   "execution_count": 6,
   "metadata": {
    "scrolled": false
   },
   "outputs": [
    {
     "data": {
      "text/plain": [
       "Year                   int64\n",
       "Month                  int64\n",
       "DayofMonth             int64\n",
       "DayOfWeek              int64\n",
       "DepTime              float64\n",
       "CRSDepTime             int64\n",
       "ArrTime              float64\n",
       "CRSArrTime             int64\n",
       "UniqueCarrier         object\n",
       "FlightNum              int64\n",
       "TailNum              float64\n",
       "ActualElapsedTime    float64\n",
       "CRSElapsedTime         int64\n",
       "AirTime              float64\n",
       "ArrDelay             float64\n",
       "DepDelay             float64\n",
       "Origin                object\n",
       "Dest                  object\n",
       "Distance             float64\n",
       "TaxiIn               float64\n",
       "TaxiOut              float64\n",
       "Cancelled              int64\n",
       "CancellationCode     float64\n",
       "Diverted               int64\n",
       "CarrierDelay         float64\n",
       "WeatherDelay         float64\n",
       "NASDelay             float64\n",
       "SecurityDelay        float64\n",
       "LateAircraftDelay    float64\n",
       "dtype: object"
      ]
     },
     "execution_count": 6,
     "metadata": {},
     "output_type": "execute_result"
    }
   ],
   "source": [
    "# Get the columns types\n",
    "df.dtypes"
   ]
  },
  {
   "cell_type": "code",
   "execution_count": 7,
   "metadata": {
    "scrolled": true
   },
   "outputs": [
    {
     "data": {
      "text/plain": [
       "Year                     0\n",
       "Month                    0\n",
       "DayofMonth               0\n",
       "DayOfWeek                0\n",
       "DepTime                833\n",
       "CRSDepTime               0\n",
       "ArrTime               1015\n",
       "CRSArrTime               0\n",
       "UniqueCarrier            0\n",
       "FlightNum                0\n",
       "TailNum              75000\n",
       "ActualElapsedTime     1015\n",
       "CRSElapsedTime           0\n",
       "AirTime              75000\n",
       "ArrDelay              1015\n",
       "DepDelay               833\n",
       "Origin                   0\n",
       "Dest                     0\n",
       "Distance               443\n",
       "TaxiIn               75000\n",
       "TaxiOut              75000\n",
       "Cancelled                0\n",
       "CancellationCode     75000\n",
       "Diverted                 0\n",
       "CarrierDelay         75000\n",
       "WeatherDelay         75000\n",
       "NASDelay             75000\n",
       "SecurityDelay        75000\n",
       "LateAircraftDelay    75000\n",
       "dtype: int64"
      ]
     },
     "execution_count": 7,
     "metadata": {},
     "output_type": "execute_result"
    }
   ],
   "source": [
    "# Where are the missing data ?\n",
    "df.isnull().sum()"
   ]
  },
  {
   "cell_type": "code",
   "execution_count": 8,
   "metadata": {},
   "outputs": [],
   "source": [
    "# Make a copy of the original dataframe\n",
    "df_flights = df.copy()"
   ]
  },
  {
   "cell_type": "code",
   "execution_count": 9,
   "metadata": {},
   "outputs": [],
   "source": [
    "# Drop the columns where all elements are missing\n",
    "df_flights.drop('TailNum', axis=1, inplace=True)\n",
    "df_flights.drop('AirTime', axis=1, inplace=True)\n",
    "df_flights.drop('TaxiIn', axis=1, inplace=True)\n",
    "df_flights.drop('TaxiOut', axis=1, inplace=True)\n",
    "df_flights.drop('CancellationCode', axis=1, inplace=True)\n",
    "df_flights.drop('CarrierDelay', axis=1, inplace=True)\n",
    "df_flights.drop('WeatherDelay', axis=1, inplace=True)\n",
    "df_flights.drop('NASDelay', axis=1, inplace=True)\n",
    "df_flights.drop('SecurityDelay', axis=1, inplace=True)\n",
    "df_flights.drop('LateAircraftDelay', axis=1, inplace=True)"
   ]
  },
  {
   "cell_type": "code",
   "execution_count": 10,
   "metadata": {},
   "outputs": [
    {
     "data": {
      "text/plain": [
       "Year                    0\n",
       "Month                   0\n",
       "DayofMonth              0\n",
       "DayOfWeek               0\n",
       "DepTime               833\n",
       "CRSDepTime              0\n",
       "ArrTime              1015\n",
       "CRSArrTime              0\n",
       "UniqueCarrier           0\n",
       "FlightNum               0\n",
       "ActualElapsedTime    1015\n",
       "CRSElapsedTime          0\n",
       "ArrDelay             1015\n",
       "DepDelay              833\n",
       "Origin                  0\n",
       "Dest                    0\n",
       "Distance              443\n",
       "Cancelled               0\n",
       "Diverted                0\n",
       "dtype: int64"
      ]
     },
     "execution_count": 10,
     "metadata": {},
     "output_type": "execute_result"
    }
   ],
   "source": [
    "# Where are the missing data ?\n",
    "df_flights.isnull().sum()"
   ]
  },
  {
   "cell_type": "code",
   "execution_count": 12,
   "metadata": {},
   "outputs": [
    {
     "data": {
      "text/plain": [
       "(75000, 19)"
      ]
     },
     "execution_count": 12,
     "metadata": {},
     "output_type": "execute_result"
    }
   ],
   "source": [
    "df_flights.shape"
   ]
  },
  {
   "cell_type": "code",
   "execution_count": 13,
   "metadata": {},
   "outputs": [
    {
     "data": {
      "text/plain": [
       "Year                    0\n",
       "Month                   0\n",
       "DayofMonth              0\n",
       "DayOfWeek               0\n",
       "DepTime               833\n",
       "CRSDepTime              0\n",
       "ArrTime              1015\n",
       "CRSArrTime              0\n",
       "UniqueCarrier           0\n",
       "FlightNum               0\n",
       "ActualElapsedTime    1015\n",
       "CRSElapsedTime          0\n",
       "ArrDelay             1015\n",
       "DepDelay              833\n",
       "Origin                  0\n",
       "Dest                    0\n",
       "Distance              443\n",
       "Cancelled               0\n",
       "Diverted                0\n",
       "dtype: int64"
      ]
     },
     "execution_count": 13,
     "metadata": {},
     "output_type": "execute_result"
    }
   ],
   "source": [
    "# Check the result\n",
    "df_flights.isnull().sum()"
   ]
  },
  {
   "cell_type": "code",
   "execution_count": 14,
   "metadata": {},
   "outputs": [],
   "source": [
    "# Set the \"Cancelled\" column type to boolean\n",
    "df_flights['Cancelled'] = df_flights['Cancelled'].astype('bool')"
   ]
  },
  {
   "cell_type": "code",
   "execution_count": 15,
   "metadata": {},
   "outputs": [
    {
     "data": {
      "text/plain": [
       "Year                   0\n",
       "Month                  0\n",
       "DayofMonth             0\n",
       "DayOfWeek              0\n",
       "DepTime              833\n",
       "CRSDepTime             0\n",
       "ArrTime              833\n",
       "CRSArrTime             0\n",
       "UniqueCarrier          0\n",
       "FlightNum              0\n",
       "ActualElapsedTime    833\n",
       "CRSElapsedTime         0\n",
       "ArrDelay             833\n",
       "DepDelay             833\n",
       "Origin                 0\n",
       "Dest                   0\n",
       "Distance               3\n",
       "Cancelled              0\n",
       "Diverted               0\n",
       "dtype: int64"
      ]
     },
     "execution_count": 15,
     "metadata": {},
     "output_type": "execute_result"
    }
   ],
   "source": [
    "# How many cancelled flights do we have ?\n",
    "df_flights.query('Cancelled').isnull().sum()"
   ]
  },
  {
   "cell_type": "markdown",
   "metadata": {},
   "source": [
    "So the cancelled flight might be the ones with NaN as `DepTime`, which makes sens. So I keep the remaining lines with NaN."
   ]
  },
  {
   "cell_type": "code",
   "execution_count": 16,
   "metadata": {},
   "outputs": [],
   "source": [
    "# Set the \"Year\", \"Month\" and \"DayOfMonth\" to datetime\n",
    "# Rename the needed columns for the datetime conversion\n",
    "df_flights = df_flights.rename(columns={'Year': 'year', 'Month': 'month', 'DayofMonth': 'day'})\n",
    "\n",
    "# Create a new column as the datetime\n",
    "df_flights['timestamp'] = pd.to_datetime(df_flights[['year', 'month', 'day']])"
   ]
  },
  {
   "cell_type": "code",
   "execution_count": 17,
   "metadata": {},
   "outputs": [],
   "source": [
    "# Drop the previous year, month, day columns we don't need anymore\n",
    "df_flights.drop('year', axis=1, inplace=True)\n",
    "df_flights.drop('month', axis=1, inplace=True)\n",
    "df_flights.drop('day', axis=1, inplace=True)"
   ]
  },
  {
   "cell_type": "code",
   "execution_count": 18,
   "metadata": {
    "scrolled": false
   },
   "outputs": [
    {
     "data": {
      "text/html": [
       "<div>\n",
       "<style scoped>\n",
       "    .dataframe tbody tr th:only-of-type {\n",
       "        vertical-align: middle;\n",
       "    }\n",
       "\n",
       "    .dataframe tbody tr th {\n",
       "        vertical-align: top;\n",
       "    }\n",
       "\n",
       "    .dataframe thead th {\n",
       "        text-align: right;\n",
       "    }\n",
       "</style>\n",
       "<table border=\"1\" class=\"dataframe\">\n",
       "  <thead>\n",
       "    <tr style=\"text-align: right;\">\n",
       "      <th></th>\n",
       "      <th>DayOfWeek</th>\n",
       "      <th>DepTime</th>\n",
       "      <th>CRSDepTime</th>\n",
       "      <th>ArrTime</th>\n",
       "      <th>CRSArrTime</th>\n",
       "      <th>UniqueCarrier</th>\n",
       "      <th>FlightNum</th>\n",
       "      <th>ActualElapsedTime</th>\n",
       "      <th>CRSElapsedTime</th>\n",
       "      <th>ArrDelay</th>\n",
       "      <th>DepDelay</th>\n",
       "      <th>Origin</th>\n",
       "      <th>Dest</th>\n",
       "      <th>Distance</th>\n",
       "      <th>Cancelled</th>\n",
       "      <th>Diverted</th>\n",
       "      <th>timestamp</th>\n",
       "    </tr>\n",
       "  </thead>\n",
       "  <tbody>\n",
       "    <tr>\n",
       "      <th>74458</th>\n",
       "      <td>2</td>\n",
       "      <td>853.0</td>\n",
       "      <td>855</td>\n",
       "      <td>1452.0</td>\n",
       "      <td>1504</td>\n",
       "      <td>UA</td>\n",
       "      <td>1794</td>\n",
       "      <td>239.0</td>\n",
       "      <td>249</td>\n",
       "      <td>-12.0</td>\n",
       "      <td>-2.0</td>\n",
       "      <td>PHX</td>\n",
       "      <td>IAD</td>\n",
       "      <td>1956.0</td>\n",
       "      <td>False</td>\n",
       "      <td>0</td>\n",
       "      <td>1992-02-11</td>\n",
       "    </tr>\n",
       "    <tr>\n",
       "      <th>38039</th>\n",
       "      <td>4</td>\n",
       "      <td>1650.0</td>\n",
       "      <td>1650</td>\n",
       "      <td>1937.0</td>\n",
       "      <td>1855</td>\n",
       "      <td>AA</td>\n",
       "      <td>1478</td>\n",
       "      <td>167.0</td>\n",
       "      <td>125</td>\n",
       "      <td>42.0</td>\n",
       "      <td>0.0</td>\n",
       "      <td>SJC</td>\n",
       "      <td>SEA</td>\n",
       "      <td>697.0</td>\n",
       "      <td>False</td>\n",
       "      <td>0</td>\n",
       "      <td>1990-10-04</td>\n",
       "    </tr>\n",
       "    <tr>\n",
       "      <th>35175</th>\n",
       "      <td>7</td>\n",
       "      <td>2223.0</td>\n",
       "      <td>2002</td>\n",
       "      <td>56.0</td>\n",
       "      <td>2240</td>\n",
       "      <td>HP</td>\n",
       "      <td>234</td>\n",
       "      <td>93.0</td>\n",
       "      <td>98</td>\n",
       "      <td>136.0</td>\n",
       "      <td>141.0</td>\n",
       "      <td>PHX</td>\n",
       "      <td>MAF</td>\n",
       "      <td>580.0</td>\n",
       "      <td>False</td>\n",
       "      <td>0</td>\n",
       "      <td>1990-11-11</td>\n",
       "    </tr>\n",
       "    <tr>\n",
       "      <th>41388</th>\n",
       "      <td>6</td>\n",
       "      <td>700.0</td>\n",
       "      <td>700</td>\n",
       "      <td>908.0</td>\n",
       "      <td>907</td>\n",
       "      <td>UA</td>\n",
       "      <td>1428</td>\n",
       "      <td>128.0</td>\n",
       "      <td>127</td>\n",
       "      <td>1.0</td>\n",
       "      <td>0.0</td>\n",
       "      <td>TPA</td>\n",
       "      <td>IAD</td>\n",
       "      <td>810.0</td>\n",
       "      <td>False</td>\n",
       "      <td>0</td>\n",
       "      <td>1990-02-24</td>\n",
       "    </tr>\n",
       "    <tr>\n",
       "      <th>41258</th>\n",
       "      <td>5</td>\n",
       "      <td>2215.0</td>\n",
       "      <td>2125</td>\n",
       "      <td>56.0</td>\n",
       "      <td>5</td>\n",
       "      <td>EA</td>\n",
       "      <td>59</td>\n",
       "      <td>161.0</td>\n",
       "      <td>160</td>\n",
       "      <td>51.0</td>\n",
       "      <td>50.0</td>\n",
       "      <td>LGA</td>\n",
       "      <td>MCO</td>\n",
       "      <td>950.0</td>\n",
       "      <td>False</td>\n",
       "      <td>0</td>\n",
       "      <td>1990-07-20</td>\n",
       "    </tr>\n",
       "  </tbody>\n",
       "</table>\n",
       "</div>"
      ],
      "text/plain": [
       "       DayOfWeek  DepTime  CRSDepTime  ArrTime  CRSArrTime UniqueCarrier  \\\n",
       "74458          2    853.0         855   1452.0        1504            UA   \n",
       "38039          4   1650.0        1650   1937.0        1855            AA   \n",
       "35175          7   2223.0        2002     56.0        2240            HP   \n",
       "41388          6    700.0         700    908.0         907            UA   \n",
       "41258          5   2215.0        2125     56.0           5            EA   \n",
       "\n",
       "       FlightNum  ActualElapsedTime  CRSElapsedTime  ArrDelay  DepDelay  \\\n",
       "74458       1794              239.0             249     -12.0      -2.0   \n",
       "38039       1478              167.0             125      42.0       0.0   \n",
       "35175        234               93.0              98     136.0     141.0   \n",
       "41388       1428              128.0             127       1.0       0.0   \n",
       "41258         59              161.0             160      51.0      50.0   \n",
       "\n",
       "      Origin Dest  Distance  Cancelled  Diverted  timestamp  \n",
       "74458    PHX  IAD    1956.0      False         0 1992-02-11  \n",
       "38039    SJC  SEA     697.0      False         0 1990-10-04  \n",
       "35175    PHX  MAF     580.0      False         0 1990-11-11  \n",
       "41388    TPA  IAD     810.0      False         0 1990-02-24  \n",
       "41258    LGA  MCO     950.0      False         0 1990-07-20  "
      ]
     },
     "execution_count": 18,
     "metadata": {},
     "output_type": "execute_result"
    }
   ],
   "source": [
    "# View samples\n",
    "df_flights.sample(5)"
   ]
  },
  {
   "cell_type": "code",
   "execution_count": 31,
   "metadata": {},
   "outputs": [
    {
     "data": {
      "text/html": [
       "<div>\n",
       "<style scoped>\n",
       "    .dataframe tbody tr th:only-of-type {\n",
       "        vertical-align: middle;\n",
       "    }\n",
       "\n",
       "    .dataframe tbody tr th {\n",
       "        vertical-align: top;\n",
       "    }\n",
       "\n",
       "    .dataframe thead th {\n",
       "        text-align: right;\n",
       "    }\n",
       "</style>\n",
       "<table border=\"1\" class=\"dataframe\">\n",
       "  <thead>\n",
       "    <tr style=\"text-align: right;\">\n",
       "      <th></th>\n",
       "      <th>DayOfWeek</th>\n",
       "      <th>DepTime</th>\n",
       "      <th>CRSDepTime</th>\n",
       "      <th>ArrTime</th>\n",
       "      <th>CRSArrTime</th>\n",
       "      <th>FlightNum</th>\n",
       "      <th>ActualElapsedTime</th>\n",
       "      <th>CRSElapsedTime</th>\n",
       "      <th>ArrDelay</th>\n",
       "      <th>DepDelay</th>\n",
       "      <th>Distance</th>\n",
       "      <th>Diverted</th>\n",
       "    </tr>\n",
       "  </thead>\n",
       "  <tbody>\n",
       "    <tr>\n",
       "      <th>count</th>\n",
       "      <td>75000.000000</td>\n",
       "      <td>74167.000000</td>\n",
       "      <td>75000.000000</td>\n",
       "      <td>73985.000000</td>\n",
       "      <td>75000.000000</td>\n",
       "      <td>75000.000000</td>\n",
       "      <td>73985.000000</td>\n",
       "      <td>75000.000000</td>\n",
       "      <td>73985.000000</td>\n",
       "      <td>74167.000000</td>\n",
       "      <td>74557.000000</td>\n",
       "      <td>75000.000000</td>\n",
       "    </tr>\n",
       "    <tr>\n",
       "      <th>mean</th>\n",
       "      <td>3.935933</td>\n",
       "      <td>1356.404452</td>\n",
       "      <td>1349.291093</td>\n",
       "      <td>1495.752747</td>\n",
       "      <td>1496.337747</td>\n",
       "      <td>764.782680</td>\n",
       "      <td>109.517321</td>\n",
       "      <td>109.683187</td>\n",
       "      <td>6.425316</td>\n",
       "      <td>6.712069</td>\n",
       "      <td>632.865056</td>\n",
       "      <td>0.002427</td>\n",
       "    </tr>\n",
       "    <tr>\n",
       "      <th>std</th>\n",
       "      <td>1.993787</td>\n",
       "      <td>476.468174</td>\n",
       "      <td>470.616674</td>\n",
       "      <td>493.993749</td>\n",
       "      <td>483.022413</td>\n",
       "      <td>549.033716</td>\n",
       "      <td>64.523552</td>\n",
       "      <td>64.192486</td>\n",
       "      <td>23.424589</td>\n",
       "      <td>20.950645</td>\n",
       "      <td>520.210695</td>\n",
       "      <td>0.049202</td>\n",
       "    </tr>\n",
       "    <tr>\n",
       "      <th>min</th>\n",
       "      <td>1.000000</td>\n",
       "      <td>1.000000</td>\n",
       "      <td>1.000000</td>\n",
       "      <td>1.000000</td>\n",
       "      <td>1.000000</td>\n",
       "      <td>1.000000</td>\n",
       "      <td>13.000000</td>\n",
       "      <td>15.000000</td>\n",
       "      <td>-65.000000</td>\n",
       "      <td>-51.000000</td>\n",
       "      <td>11.000000</td>\n",
       "      <td>0.000000</td>\n",
       "    </tr>\n",
       "    <tr>\n",
       "      <th>25%</th>\n",
       "      <td>2.000000</td>\n",
       "      <td>936.000000</td>\n",
       "      <td>930.000000</td>\n",
       "      <td>1118.000000</td>\n",
       "      <td>1118.000000</td>\n",
       "      <td>336.000000</td>\n",
       "      <td>64.000000</td>\n",
       "      <td>65.000000</td>\n",
       "      <td>-5.000000</td>\n",
       "      <td>0.000000</td>\n",
       "      <td>270.000000</td>\n",
       "      <td>0.000000</td>\n",
       "    </tr>\n",
       "    <tr>\n",
       "      <th>50%</th>\n",
       "      <td>4.000000</td>\n",
       "      <td>1337.000000</td>\n",
       "      <td>1330.000000</td>\n",
       "      <td>1522.000000</td>\n",
       "      <td>1521.000000</td>\n",
       "      <td>651.000000</td>\n",
       "      <td>90.000000</td>\n",
       "      <td>90.000000</td>\n",
       "      <td>1.000000</td>\n",
       "      <td>0.000000</td>\n",
       "      <td>457.000000</td>\n",
       "      <td>0.000000</td>\n",
       "    </tr>\n",
       "    <tr>\n",
       "      <th>75%</th>\n",
       "      <td>6.000000</td>\n",
       "      <td>1744.500000</td>\n",
       "      <td>1735.000000</td>\n",
       "      <td>1920.000000</td>\n",
       "      <td>1915.000000</td>\n",
       "      <td>1097.000000</td>\n",
       "      <td>139.000000</td>\n",
       "      <td>139.000000</td>\n",
       "      <td>11.000000</td>\n",
       "      <td>5.000000</td>\n",
       "      <td>861.000000</td>\n",
       "      <td>0.000000</td>\n",
       "    </tr>\n",
       "    <tr>\n",
       "      <th>max</th>\n",
       "      <td>7.000000</td>\n",
       "      <td>2400.000000</td>\n",
       "      <td>2359.000000</td>\n",
       "      <td>2400.000000</td>\n",
       "      <td>2400.000000</td>\n",
       "      <td>3362.000000</td>\n",
       "      <td>625.000000</td>\n",
       "      <td>625.000000</td>\n",
       "      <td>583.000000</td>\n",
       "      <td>1425.000000</td>\n",
       "      <td>4983.000000</td>\n",
       "      <td>1.000000</td>\n",
       "    </tr>\n",
       "  </tbody>\n",
       "</table>\n",
       "</div>"
      ],
      "text/plain": [
       "          DayOfWeek       DepTime    CRSDepTime       ArrTime    CRSArrTime  \\\n",
       "count  75000.000000  74167.000000  75000.000000  73985.000000  75000.000000   \n",
       "mean       3.935933   1356.404452   1349.291093   1495.752747   1496.337747   \n",
       "std        1.993787    476.468174    470.616674    493.993749    483.022413   \n",
       "min        1.000000      1.000000      1.000000      1.000000      1.000000   \n",
       "25%        2.000000    936.000000    930.000000   1118.000000   1118.000000   \n",
       "50%        4.000000   1337.000000   1330.000000   1522.000000   1521.000000   \n",
       "75%        6.000000   1744.500000   1735.000000   1920.000000   1915.000000   \n",
       "max        7.000000   2400.000000   2359.000000   2400.000000   2400.000000   \n",
       "\n",
       "          FlightNum  ActualElapsedTime  CRSElapsedTime      ArrDelay  \\\n",
       "count  75000.000000       73985.000000    75000.000000  73985.000000   \n",
       "mean     764.782680         109.517321      109.683187      6.425316   \n",
       "std      549.033716          64.523552       64.192486     23.424589   \n",
       "min        1.000000          13.000000       15.000000    -65.000000   \n",
       "25%      336.000000          64.000000       65.000000     -5.000000   \n",
       "50%      651.000000          90.000000       90.000000      1.000000   \n",
       "75%     1097.000000         139.000000      139.000000     11.000000   \n",
       "max     3362.000000         625.000000      625.000000    583.000000   \n",
       "\n",
       "           DepDelay      Distance      Diverted  \n",
       "count  74167.000000  74557.000000  75000.000000  \n",
       "mean       6.712069    632.865056      0.002427  \n",
       "std       20.950645    520.210695      0.049202  \n",
       "min      -51.000000     11.000000      0.000000  \n",
       "25%        0.000000    270.000000      0.000000  \n",
       "50%        0.000000    457.000000      0.000000  \n",
       "75%        5.000000    861.000000      0.000000  \n",
       "max     1425.000000   4983.000000      1.000000  "
      ]
     },
     "execution_count": 31,
     "metadata": {},
     "output_type": "execute_result"
    }
   ],
   "source": [
    "# Statistics summary\n",
    "df_flights.describe()"
   ]
  },
  {
   "cell_type": "markdown",
   "metadata": {},
   "source": [
    "### What is the structure of your dataset?\n",
    "\n",
    "> There are 73546 records of flights, over 5 years. There are time variables (mainly expected times and delays), numeric variables and text variables such are origins, destinations and carriers' names. We also have boolean like information (here as 0 or 1) to know if the flight is canceled or diverted.\n",
    "\n",
    "\n",
    "### What is/are the main feature(s) of interest in your dataset?\n",
    "\n",
    "> I am most interested in the following :\n",
    "1. Are there certain destinations or arrival cities that are home to more delays or cancellations ?\n",
    "2. What are the preferred times for flights to occur ? Are there any changes over the years ?\n",
    "\n",
    "### What features in the dataset do you think will help support your investigation into your feature(s) of interest?\n",
    "\n",
    "> For my first feature of interest, looking into `Cancelled` which indicates if the flight has been canceled or not, will be a key. The reason of the cancellation identified as `cancellationCode` might be interesting to have more insights.   \n",
    "Regarding Delaying, I think that arrival delays (`ArrDelay`) will help to support my investigation.  \n",
    "Later, I will dive into cancelation and arrival delays relationships with the arrival cities or destinations here identified as `Dest`.    \n",
    "> For the second one, \"What are the preferred times for flights to occur ?\" : I will focus on departure and arrival time here `DepTime`and `ArrTime`. Then, I will develop an understanding on any changes over the years `Year`."
   ]
  },
  {
   "cell_type": "markdown",
   "metadata": {},
   "source": [
    "## Univariate Exploration\n",
    "\n",
    "In this section, I investigate distributions of the individual variables."
   ]
  },
  {
   "cell_type": "markdown",
   "metadata": {},
   "source": [
    "### Feature of interest 1 : Are there certain destinations or arrival cities that are home to more delays or cancellations?"
   ]
  },
  {
   "cell_type": "markdown",
   "metadata": {},
   "source": [
    "Looking at the `Canceled` variable. "
   ]
  },
  {
   "cell_type": "code",
   "execution_count": 26,
   "metadata": {},
   "outputs": [],
   "source": [
    "# Get the number of cancelled\n",
    "cancelled = df_flights.query('Cancelled == True')['Cancelled'].count()\n",
    "non_cancelled = df_flights.shape[0] - cancelled"
   ]
  },
  {
   "cell_type": "code",
   "execution_count": 29,
   "metadata": {
    "scrolled": true
   },
   "outputs": [
    {
     "data": {
      "image/png": "[encoded data removed]",
      "text/plain": [
       "<Figure size 432x288 with 1 Axes>"
      ]
     },
     "metadata": {
      "needs_background": "light"
     },
     "output_type": "display_data"
    }
   ],
   "source": [
    "# Create a bar chart of the cancelation state\n",
    "# Use only one color\n",
    "base_color = sb.color_palette()[0]\n",
    "\n",
    "# plot the bar chart\n",
    "cancelled_bar = sb.countplot(data = df_flights, x = 'Cancelled', color = base_color)\n",
    "\n",
    "# Set labels names\n",
    "cancelled_bar.set(title='Flights cancellation 1987 - 1992', xlabel='Cancelled', ylabel='Number of flights')\n",
    "\n",
    "# label the frequencies on the bars\n",
    "# First, calculate non cancelled percentage\n",
    "non_cancelled_percent = '{:0.1f}%'.format(100*non_cancelled/df_flights.shape[0])\n",
    "\n",
    "# calculate the cancelled percentage\n",
    "cancelled_percent = '{:0.1f}%'.format(100*cancelled/df_flights.shape[0])\n",
    "\n",
    "# Set the labels names on the bars\n",
    "plt.text(0, non_cancelled-8, non_cancelled_percent, ha = 'center', color = 'r')\n",
    "plt.text(1, cancelled-8, cancelled_percent, ha = 'center', color = 'r');"
   ]
  },
  {
   "cell_type": "markdown",
   "metadata": {},
   "source": [
    "Now, let's observe the `ArrDelay` variable.   \n",
    "For coherency, I need to use a dataframe with all the cancelled flights removed. "
   ]
  },
  {
   "cell_type": "code",
   "execution_count": 50,
   "metadata": {},
   "outputs": [],
   "source": [
    "# Get a copy of the dataframe we started to clean\n",
    "df_completed_flights = df_flights.copy()"
   ]
  },
  {
   "cell_type": "code",
   "execution_count": 51,
   "metadata": {},
   "outputs": [],
   "source": [
    "# Now we delete the rows where at least one element is missing\n",
    "df_completed_flights.dropna(inplace=True)"
   ]
  },
  {
   "cell_type": "markdown",
   "metadata": {},
   "source": [
    "Now I can plot `ArrDelay`"
   ]
  },
  {
   "cell_type": "code",
   "execution_count": 53,
   "metadata": {
    "scrolled": true
   },
   "outputs": [
    {
     "data": {
      "image/png": "[encoded data removed]",
      "text/plain": [
       "<Figure size 432x288 with 1 Axes>"
      ]
     },
     "metadata": {
      "needs_background": "light"
     },
     "output_type": "display_data"
    }
   ],
   "source": [
    "# basic plot for Arrival delay distribution\n",
    "plt.hist(data = df_completed_flights, x = 'ArrDelay');"
   ]
  },
  {
   "cell_type": "markdown",
   "metadata": {},
   "source": [
    "The graph is right skewed.  \n",
    "I need to find a more appropriate bin. So let's have a look on the default bin-selection used by seaborn `displot` for this case. "
   ]
  },
  {
   "cell_type": "code",
   "execution_count": 70,
   "metadata": {
    "scrolled": false
   },
   "outputs": [
    {
     "data": {
      "image/png": "[encoded data removed]",
      "text/plain": [
       "<Figure size 432x288 with 1 Axes>"
      ]
     },
     "metadata": {
      "needs_background": "light"
     },
     "output_type": "display_data"
    }
   ],
   "source": [
    "# Plot the arrival delays\n",
    "arrdelay_plot = sb.distplot(df_completed_flights['ArrDelay'])\n",
    "\n",
    "# Set labels names\n",
    "arrdelay_plot.set(title='Flights Arrival Delays', xlabel='Delays in Minutes');"
   ]
  },
  {
   "cell_type": "markdown",
   "metadata": {},
   "source": [
    "From the statistic summary above, I know that even if the max delay is 583 minutes, the majority of the values should be around zero, with a min value of -65 minutes.  \n",
    "So let's explore any possibility to have a more adapted bin selection, so I can have a better view on the values around zero."
   ]
  },
  {
   "cell_type": "code",
   "execution_count": 100,
   "metadata": {
    "scrolled": false
   },
   "outputs": [
    {
     "data": {
      "image/png": "[encoded data removed]",
      "text/plain": [
       "<Figure size 432x288 with 1 Axes>"
      ]
     },
     "metadata": {
      "needs_background": "light"
     },
     "output_type": "display_data"
    }
   ],
   "source": [
    "# tentative for a better bin selection\n",
    "# start the range at the min() as observed from the summary statistics\n",
    "bin_edges = np.arange(df_completed_flights['ArrDelay'].min(), df_completed_flights['ArrDelay'].max()+2, 2)\n",
    "\n",
    "# plot the histogram with the bins\n",
    "sb.distplot(df_completed_flights['ArrDelay'], bins = bin_edges, kde = False,\n",
    "            hist_kws = {'alpha' : 1})\n",
    "plt.xlabel('Arrival Delays - minutes');"
   ]
  },
  {
   "cell_type": "markdown",
   "metadata": {},
   "source": [
    "I've plotted using bin width form 0.6 to 15 and finally found out that the default bin-selection from seaborn `displot` offers more readability in this situation. So I choose 2 as bin width."
   ]
  },
  {
   "cell_type": "markdown",
   "metadata": {},
   "source": [
    "My original point was that it is right skewed. So let's zoom on the main bulk of the data throught the use of axis limits."
   ]
  },
  {
   "cell_type": "code",
   "execution_count": 103,
   "metadata": {},
   "outputs": [
    {
     "data": {
      "image/png": "[encoded data removed]",
      "text/plain": [
       "<Figure size 1440x720 with 2 Axes>"
      ]
     },
     "metadata": {
      "needs_background": "light"
     },
     "output_type": "display_data"
    }
   ],
   "source": [
    "# tentative for a better zoom selection\n",
    "# set the figures sizes\n",
    "plt.figure(figsize = [20, 10])\n",
    "\n",
    "# plot the full data with the bin width I found adapted\n",
    "plt.subplot(1, 2, 1)\n",
    "bin_edges = np.arange(df_completed_flights['ArrDelay'].min(), df_completed_flights['ArrDelay'].max()+2, 2)\n",
    "plt.hist(data = df_completed_flights, x = 'ArrDelay', bins = bin_edges)\n",
    "plt.xlabel('Arrival Delays - minutes')\n",
    "\n",
    "# plot another histogram including the zoom\n",
    "plt.subplot(1, 2, 2)\n",
    "bin_edges = np.arange(df_completed_flights['ArrDelay'].min(), df_completed_flights['ArrDelay'].max()+2, 2)\n",
    "plt.hist(data = df_completed_flights, x = 'ArrDelay', bins = bin_edges)\n",
    "\n",
    "# set the  x values limitation for the 2nd histogram. I start at the min() and use 70 as the right limit\n",
    "plt.xlim((df_completed_flights['ArrDelay'].min(), 80))\n",
    "plt.xlabel('Arrival Delays - minutes'); "
   ]
  },
  {
   "cell_type": "markdown",
   "metadata": {},
   "source": [
    "The majority of the delays are between (more and less, an eyeballed) -40 minutes (early arrival) and +80 minutes (late).  \n",
    "This data, as highly skewed, is following a kind of log-normal distribution. A logarithm transformation is not possible here due to the negative values we have. "
   ]
  },
  {
   "cell_type": "markdown",
   "metadata": {},
   "source": [
    "Now let's see if we can grab elements regarding the causes of the outliers, meaning flights with arrival delay more that 80 minutes. "
   ]
  },
  {
   "cell_type": "code",
   "execution_count": 111,
   "metadata": {},
   "outputs": [
    {
     "data": {
      "text/plain": [
       "(1230, 73546, 1.6724227014385553)"
      ]
     },
     "execution_count": 111,
     "metadata": {},
     "output_type": "execute_result"
    }
   ],
   "source": [
    "# getting to the high outliers (Arrival delays > 80 minutes)\n",
    "df_highlate = df_completed_flights.query('ArrDelay > 80')\n",
    "df_highlate.shape[0], df_completed_flights.shape[0], (df_highlate.shape[0] / df_completed_flights.shape[0])*100"
   ]
  },
  {
   "cell_type": "code",
   "execution_count": 117,
   "metadata": {},
   "outputs": [
    {
     "data": {
      "image/png": "[encoded data removed]",
      "text/plain": [
       "<Figure size 1440x720 with 1 Axes>"
      ]
     },
     "metadata": {
      "needs_background": "light"
     },
     "output_type": "display_data"
    }
   ],
   "source": [
    "# I expect to see that the high outliers have all a departure delay\n",
    "\n",
    "# Set a more bigger figure size\n",
    "plt.figure(figsize = [20, 10])\n",
    "\n",
    "# Plot the departure delays\n",
    "depdelay_plot = sb.distplot(df_highlate['DepDelay'])\n",
    "\n",
    "# Set labels names\n",
    "depdelay_plot.set(title='Departure Delays for late flights', xlabel='Delays in Minutes');"
   ]
  },
  {
   "cell_type": "markdown",
   "metadata": {},
   "source": [
    "Strange : some of those flights had a negative departure delays, meaning the flights started in advance"
   ]
  },
  {
   "cell_type": "code",
   "execution_count": 118,
   "metadata": {},
   "outputs": [
    {
     "data": {
      "text/html": [
       "<div>\n",
       "<style scoped>\n",
       "    .dataframe tbody tr th:only-of-type {\n",
       "        vertical-align: middle;\n",
       "    }\n",
       "\n",
       "    .dataframe tbody tr th {\n",
       "        vertical-align: top;\n",
       "    }\n",
       "\n",
       "    .dataframe thead th {\n",
       "        text-align: right;\n",
       "    }\n",
       "</style>\n",
       "<table border=\"1\" class=\"dataframe\">\n",
       "  <thead>\n",
       "    <tr style=\"text-align: right;\">\n",
       "      <th></th>\n",
       "      <th>DayOfWeek</th>\n",
       "      <th>DepTime</th>\n",
       "      <th>CRSDepTime</th>\n",
       "      <th>ArrTime</th>\n",
       "      <th>CRSArrTime</th>\n",
       "      <th>UniqueCarrier</th>\n",
       "      <th>FlightNum</th>\n",
       "      <th>ActualElapsedTime</th>\n",
       "      <th>CRSElapsedTime</th>\n",
       "      <th>ArrDelay</th>\n",
       "      <th>DepDelay</th>\n",
       "      <th>Origin</th>\n",
       "      <th>Dest</th>\n",
       "      <th>Distance</th>\n",
       "      <th>Cancelled</th>\n",
       "      <th>Diverted</th>\n",
       "      <th>timestamp</th>\n",
       "    </tr>\n",
       "  </thead>\n",
       "  <tbody>\n",
       "    <tr>\n",
       "      <th>4649</th>\n",
       "      <td>1</td>\n",
       "      <td>625.0</td>\n",
       "      <td>627</td>\n",
       "      <td>1211.0</td>\n",
       "      <td>825</td>\n",
       "      <td>PS</td>\n",
       "      <td>1698</td>\n",
       "      <td>346.0</td>\n",
       "      <td>118</td>\n",
       "      <td>226.0</td>\n",
       "      <td>-2.0</td>\n",
       "      <td>PSC</td>\n",
       "      <td>SFO</td>\n",
       "      <td>620.0</td>\n",
       "      <td>False</td>\n",
       "      <td>0</td>\n",
       "      <td>1988-02-08</td>\n",
       "    </tr>\n",
       "    <tr>\n",
       "      <th>33311</th>\n",
       "      <td>4</td>\n",
       "      <td>927.0</td>\n",
       "      <td>930</td>\n",
       "      <td>1215.0</td>\n",
       "      <td>1052</td>\n",
       "      <td>UA</td>\n",
       "      <td>1704</td>\n",
       "      <td>168.0</td>\n",
       "      <td>82</td>\n",
       "      <td>83.0</td>\n",
       "      <td>-3.0</td>\n",
       "      <td>LAX</td>\n",
       "      <td>SFO</td>\n",
       "      <td>337.0</td>\n",
       "      <td>False</td>\n",
       "      <td>0</td>\n",
       "      <td>1990-04-19</td>\n",
       "    </tr>\n",
       "    <tr>\n",
       "      <th>34599</th>\n",
       "      <td>7</td>\n",
       "      <td>1614.0</td>\n",
       "      <td>1615</td>\n",
       "      <td>1921.0</td>\n",
       "      <td>1730</td>\n",
       "      <td>US</td>\n",
       "      <td>769</td>\n",
       "      <td>187.0</td>\n",
       "      <td>75</td>\n",
       "      <td>111.0</td>\n",
       "      <td>-1.0</td>\n",
       "      <td>BWI</td>\n",
       "      <td>UCA</td>\n",
       "      <td>282.0</td>\n",
       "      <td>False</td>\n",
       "      <td>0</td>\n",
       "      <td>1990-09-16</td>\n",
       "    </tr>\n",
       "    <tr>\n",
       "      <th>36055</th>\n",
       "      <td>1</td>\n",
       "      <td>859.0</td>\n",
       "      <td>900</td>\n",
       "      <td>1611.0</td>\n",
       "      <td>1446</td>\n",
       "      <td>AA</td>\n",
       "      <td>88</td>\n",
       "      <td>312.0</td>\n",
       "      <td>226</td>\n",
       "      <td>85.0</td>\n",
       "      <td>-1.0</td>\n",
       "      <td>SAN</td>\n",
       "      <td>ORD</td>\n",
       "      <td>1723.0</td>\n",
       "      <td>False</td>\n",
       "      <td>0</td>\n",
       "      <td>1990-03-05</td>\n",
       "    </tr>\n",
       "    <tr>\n",
       "      <th>40432</th>\n",
       "      <td>4</td>\n",
       "      <td>1343.0</td>\n",
       "      <td>1345</td>\n",
       "      <td>1631.0</td>\n",
       "      <td>1445</td>\n",
       "      <td>US</td>\n",
       "      <td>1109</td>\n",
       "      <td>168.0</td>\n",
       "      <td>60</td>\n",
       "      <td>106.0</td>\n",
       "      <td>-2.0</td>\n",
       "      <td>ROC</td>\n",
       "      <td>EWR</td>\n",
       "      <td>246.0</td>\n",
       "      <td>False</td>\n",
       "      <td>0</td>\n",
       "      <td>1990-04-19</td>\n",
       "    </tr>\n",
       "    <tr>\n",
       "      <th>53895</th>\n",
       "      <td>2</td>\n",
       "      <td>1255.0</td>\n",
       "      <td>1256</td>\n",
       "      <td>1550.0</td>\n",
       "      <td>1358</td>\n",
       "      <td>AA</td>\n",
       "      <td>1365</td>\n",
       "      <td>235.0</td>\n",
       "      <td>122</td>\n",
       "      <td>112.0</td>\n",
       "      <td>-1.0</td>\n",
       "      <td>RDU</td>\n",
       "      <td>ORD</td>\n",
       "      <td>647.0</td>\n",
       "      <td>False</td>\n",
       "      <td>0</td>\n",
       "      <td>1991-09-03</td>\n",
       "    </tr>\n",
       "    <tr>\n",
       "      <th>60079</th>\n",
       "      <td>5</td>\n",
       "      <td>1816.0</td>\n",
       "      <td>1817</td>\n",
       "      <td>2143.0</td>\n",
       "      <td>1950</td>\n",
       "      <td>UA</td>\n",
       "      <td>27</td>\n",
       "      <td>207.0</td>\n",
       "      <td>93</td>\n",
       "      <td>113.0</td>\n",
       "      <td>-1.0</td>\n",
       "      <td>BOS</td>\n",
       "      <td>IAD</td>\n",
       "      <td>413.0</td>\n",
       "      <td>False</td>\n",
       "      <td>0</td>\n",
       "      <td>1992-07-10</td>\n",
       "    </tr>\n",
       "    <tr>\n",
       "      <th>63054</th>\n",
       "      <td>5</td>\n",
       "      <td>703.0</td>\n",
       "      <td>704</td>\n",
       "      <td>932.0</td>\n",
       "      <td>809</td>\n",
       "      <td>TW</td>\n",
       "      <td>523</td>\n",
       "      <td>149.0</td>\n",
       "      <td>65</td>\n",
       "      <td>83.0</td>\n",
       "      <td>-1.0</td>\n",
       "      <td>IND</td>\n",
       "      <td>STL</td>\n",
       "      <td>229.0</td>\n",
       "      <td>False</td>\n",
       "      <td>0</td>\n",
       "      <td>1992-04-10</td>\n",
       "    </tr>\n",
       "    <tr>\n",
       "      <th>64569</th>\n",
       "      <td>1</td>\n",
       "      <td>706.0</td>\n",
       "      <td>707</td>\n",
       "      <td>921.0</td>\n",
       "      <td>754</td>\n",
       "      <td>TW</td>\n",
       "      <td>355</td>\n",
       "      <td>135.0</td>\n",
       "      <td>47</td>\n",
       "      <td>87.0</td>\n",
       "      <td>-1.0</td>\n",
       "      <td>PBI</td>\n",
       "      <td>MCO</td>\n",
       "      <td>142.0</td>\n",
       "      <td>False</td>\n",
       "      <td>0</td>\n",
       "      <td>1992-10-26</td>\n",
       "    </tr>\n",
       "    <tr>\n",
       "      <th>69903</th>\n",
       "      <td>2</td>\n",
       "      <td>816.0</td>\n",
       "      <td>817</td>\n",
       "      <td>1128.0</td>\n",
       "      <td>929</td>\n",
       "      <td>UA</td>\n",
       "      <td>593</td>\n",
       "      <td>192.0</td>\n",
       "      <td>72</td>\n",
       "      <td>119.0</td>\n",
       "      <td>-1.0</td>\n",
       "      <td>ORD</td>\n",
       "      <td>DSM</td>\n",
       "      <td>299.0</td>\n",
       "      <td>False</td>\n",
       "      <td>0</td>\n",
       "      <td>1992-12-29</td>\n",
       "    </tr>\n",
       "  </tbody>\n",
       "</table>\n",
       "</div>"
      ],
      "text/plain": [
       "       DayOfWeek  DepTime  CRSDepTime  ArrTime  CRSArrTime UniqueCarrier  \\\n",
       "4649           1    625.0         627   1211.0         825            PS   \n",
       "33311          4    927.0         930   1215.0        1052            UA   \n",
       "34599          7   1614.0        1615   1921.0        1730            US   \n",
       "36055          1    859.0         900   1611.0        1446            AA   \n",
       "40432          4   1343.0        1345   1631.0        1445            US   \n",
       "53895          2   1255.0        1256   1550.0        1358            AA   \n",
       "60079          5   1816.0        1817   2143.0        1950            UA   \n",
       "63054          5    703.0         704    932.0         809            TW   \n",
       "64569          1    706.0         707    921.0         754            TW   \n",
       "69903          2    816.0         817   1128.0         929            UA   \n",
       "\n",
       "       FlightNum  ActualElapsedTime  CRSElapsedTime  ArrDelay  DepDelay  \\\n",
       "4649        1698              346.0             118     226.0      -2.0   \n",
       "33311       1704              168.0              82      83.0      -3.0   \n",
       "34599        769              187.0              75     111.0      -1.0   \n",
       "36055         88              312.0             226      85.0      -1.0   \n",
       "40432       1109              168.0              60     106.0      -2.0   \n",
       "53895       1365              235.0             122     112.0      -1.0   \n",
       "60079         27              207.0              93     113.0      -1.0   \n",
       "63054        523              149.0              65      83.0      -1.0   \n",
       "64569        355              135.0              47      87.0      -1.0   \n",
       "69903        593              192.0              72     119.0      -1.0   \n",
       "\n",
       "      Origin Dest  Distance  Cancelled  Diverted  timestamp  \n",
       "4649     PSC  SFO     620.0      False         0 1988-02-08  \n",
       "33311    LAX  SFO     337.0      False         0 1990-04-19  \n",
       "34599    BWI  UCA     282.0      False         0 1990-09-16  \n",
       "36055    SAN  ORD    1723.0      False         0 1990-03-05  \n",
       "40432    ROC  EWR     246.0      False         0 1990-04-19  \n",
       "53895    RDU  ORD     647.0      False         0 1991-09-03  \n",
       "60079    BOS  IAD     413.0      False         0 1992-07-10  \n",
       "63054    IND  STL     229.0      False         0 1992-04-10  \n",
       "64569    PBI  MCO     142.0      False         0 1992-10-26  \n",
       "69903    ORD  DSM     299.0      False         0 1992-12-29  "
      ]
     },
     "execution_count": 118,
     "metadata": {},
     "output_type": "execute_result"
    }
   ],
   "source": [
    "# The flights started in advance, but arrived late !\n",
    "df_highlate.query('DepDelay < 0')"
   ]
  },
  {
   "cell_type": "markdown",
   "metadata": {},
   "source": [
    "This is not clear.  It might have someting to do with geography, cities positioning maybe. So let's move on to the relations with the cities."
   ]
  },
  {
   "cell_type": "markdown",
   "metadata": {},
   "source": [
    "### Discuss the distribution(s) of your variable(s) of interest. Were there any unusual points? Did you need to perform any transformations?\n",
    "\n",
    "> 1st variable : `Cancelled`  \n",
    "This is a categorical variable with 2 states. The relevant information here is the proportion of the cancelled flights versus the ones really performed. I saw very law 1.1% of cancelled flights, which indeed is still important in the flight industry.   \n",
    "> 2nb variable : `ArrDelay`   \n",
    "The histogram is right skewed. I tried to find an appropriate bin width for the histogram visualization. Then I zoomed on the main bulk of the data through the use of axis limits.\n",
    "\n",
    "### Of the features you investigated, were there any unusual distributions? Did you perform any operations on the data to tidy, adjust, or change the form of the data? If so, why did you do this?\n",
    "\n",
    "> `Cancelled` : I converted the data type to boolean. It was int64 with 0 or 1. Boolean True or False was more easy to understand information, especially on the graph, but also for data exploration by code.  \n",
    "> Regarding `ArrDelay`: I did not perform any specific operations on the data, which were alreay in minutes. "
   ]
  },
  {
   "cell_type": "markdown",
   "metadata": {},
   "source": [
    "## Bivariate Exploration\n",
    "\n",
    "> In this section, investigate relationships between pairs of variables in your\n",
    "data. Make sure the variables that you cover here have been introduced in some\n",
    "fashion in the previous section (univariate exploration)."
   ]
  },
  {
   "cell_type": "markdown",
   "metadata": {},
   "source": [
    "### Feature of interest 1 : Are there certain destinations or arrival cities that are home to more delays or cancellations?"
   ]
  },
  {
   "cell_type": "code",
   "execution_count": null,
   "metadata": {},
   "outputs": [],
   "source": []
  },
  {
   "cell_type": "markdown",
   "metadata": {},
   "source": [
    "### Talk about some of the relationships you observed in this part of the investigation. How did the feature(s) of interest vary with other features in the dataset?\n",
    "\n",
    "> Your answer here!\n",
    "\n",
    "### Did you observe any interesting relationships between the other features (not the main feature(s) of interest)?\n",
    "\n",
    "> Your answer here!"
   ]
  },
  {
   "cell_type": "markdown",
   "metadata": {},
   "source": [
    "## Multivariate Exploration\n",
    "\n",
    "> Create plots of three or more variables to investigate your data even\n",
    "further. Make sure that your investigations are justified, and follow from\n",
    "your work in the previous sections."
   ]
  },
  {
   "cell_type": "code",
   "execution_count": null,
   "metadata": {},
   "outputs": [],
   "source": []
  },
  {
   "cell_type": "markdown",
   "metadata": {},
   "source": [
    "### Talk about some of the relationships you observed in this part of the investigation. Were there features that strengthened each other in terms of looking at your feature(s) of interest?\n",
    "\n",
    "> Your answer here!\n",
    "\n",
    "### Were there any interesting or surprising interactions between features?\n",
    "\n",
    "> Your answer here!"
   ]
  },
  {
   "cell_type": "markdown",
   "metadata": {},
   "source": [
    "> At the end of your report, make sure that you export the notebook as an\n",
    "html file from the `File > Download as... > HTML` menu. Make sure you keep\n",
    "track of where the exported file goes, so you can put it in the same folder\n",
    "as this notebook for project submission. Also, make sure you remove all of\n",
    "the quote-formatted guide notes like this one before you finish your report!"
   ]
  },
  {
   "cell_type": "code",
   "execution_count": null,
   "metadata": {},
   "outputs": [],
   "source": []
  }
 ],
 "metadata": {
  "kernelspec": {
   "display_name": "Python 3",
   "language": "python",
   "name": "python3"
  },
  "language_info": {
   "codemirror_mode": {
    "name": "ipython",
    "version": 3
   },
   "file_extension": ".py",
   "mimetype": "text/x-python",
   "name": "python",
   "nbconvert_exporter": "python",
   "pygments_lexer": "ipython3",
   "version": "3.6.6"
  }
 },
 "nbformat": 4,
 "nbformat_minor": 2
}

{
 "cells": [
  {
   "cell_type": "markdown",
   "metadata": {},
   "source": [
    "# Flights data exploration\n",
    "## by Jean-Luc COSSI\n",
    "\n",
    "## Preliminary Wrangling\n",
    "\n",
    "> I use Python visualization libraries to systematically explore \"Reporting Carrier On-Time Performance\" for several years. Those data files have been selected from http://stat-computing.org/dataexpo/2009/the-data.html.  \n",
    "A detailed presentation of the data is available here https://www.transtats.bts.gov/Fields.asp?Table_ID=236"
   ]
  },
  {
   "cell_type": "code",
   "execution_count": 236,
   "metadata": {},
   "outputs": [],
   "source": [
    "# import all packages and set plots to be embedded inline\n",
    "import numpy as np\n",
    "import pandas as pd\n",
    "import matplotlib.pyplot as plt\n",
    "import seaborn as sb\n",
    "import datetime, time\n",
    "\n",
    "%matplotlib inline"
   ]
  },
  {
   "cell_type": "markdown",
   "metadata": {},
   "source": [
    "As the original files were too big, I created a random sample of the original files I chose to use."
   ]
  },
  {
   "cell_type": "markdown",
   "metadata": {},
   "source": [
    "> Load in the dataset and describe its properties. We motivate our exploration goals through this section."
   ]
  },
  {
   "cell_type": "code",
   "execution_count": 237,
   "metadata": {},
   "outputs": [],
   "source": [
    "# load data files\n",
    "df_1987 = pd.read_csv('data/1988_sample.csv')\n",
    "df_1989 = pd.read_csv('data/1989_sample.csv')\n",
    "df_1990 = pd.read_csv('data/1990_sample.csv')\n",
    "df_1991 = pd.read_csv('data/1991_sample.csv')\n",
    "df_1992 = pd.read_csv('data/1992_sample.csv')"
   ]
  },
  {
   "cell_type": "code",
   "execution_count": 238,
   "metadata": {},
   "outputs": [],
   "source": [
    "# concat all into one dafaframe\n",
    "df = pd.concat([df_1987, df_1989, df_1990, df_1991, df_1992], ignore_index=True)"
   ]
  },
  {
   "cell_type": "code",
   "execution_count": 239,
   "metadata": {},
   "outputs": [
    {
     "data": {
      "text/plain": [
       "(75000, 29)"
      ]
     },
     "execution_count": 239,
     "metadata": {},
     "output_type": "execute_result"
    }
   ],
   "source": [
    "# Get the dataframe size\n",
    "df.shape"
   ]
  },
  {
   "cell_type": "code",
   "execution_count": 240,
   "metadata": {},
   "outputs": [
    {
     "data": {
      "text/html": [
       "<div>\n",
       "<style scoped>\n",
       "    .dataframe tbody tr th:only-of-type {\n",
       "        vertical-align: middle;\n",
       "    }\n",
       "\n",
       "    .dataframe tbody tr th {\n",
       "        vertical-align: top;\n",
       "    }\n",
       "\n",
       "    .dataframe thead th {\n",
       "        text-align: right;\n",
       "    }\n",
       "</style>\n",
       "<table border=\"1\" class=\"dataframe\">\n",
       "  <thead>\n",
       "    <tr style=\"text-align: right;\">\n",
       "      <th></th>\n",
       "      <th>Year</th>\n",
       "      <th>Month</th>\n",
       "      <th>DayofMonth</th>\n",
       "      <th>DayOfWeek</th>\n",
       "      <th>DepTime</th>\n",
       "      <th>CRSDepTime</th>\n",
       "      <th>ArrTime</th>\n",
       "      <th>CRSArrTime</th>\n",
       "      <th>UniqueCarrier</th>\n",
       "      <th>FlightNum</th>\n",
       "      <th>...</th>\n",
       "      <th>TaxiIn</th>\n",
       "      <th>TaxiOut</th>\n",
       "      <th>Cancelled</th>\n",
       "      <th>CancellationCode</th>\n",
       "      <th>Diverted</th>\n",
       "      <th>CarrierDelay</th>\n",
       "      <th>WeatherDelay</th>\n",
       "      <th>NASDelay</th>\n",
       "      <th>SecurityDelay</th>\n",
       "      <th>LateAircraftDelay</th>\n",
       "    </tr>\n",
       "  </thead>\n",
       "  <tbody>\n",
       "    <tr>\n",
       "      <th>56372</th>\n",
       "      <td>1991</td>\n",
       "      <td>11</td>\n",
       "      <td>3</td>\n",
       "      <td>7</td>\n",
       "      <td>1234.0</td>\n",
       "      <td>1235</td>\n",
       "      <td>1328.0</td>\n",
       "      <td>1334</td>\n",
       "      <td>US</td>\n",
       "      <td>1059</td>\n",
       "      <td>...</td>\n",
       "      <td>NaN</td>\n",
       "      <td>NaN</td>\n",
       "      <td>0</td>\n",
       "      <td>NaN</td>\n",
       "      <td>0</td>\n",
       "      <td>NaN</td>\n",
       "      <td>NaN</td>\n",
       "      <td>NaN</td>\n",
       "      <td>NaN</td>\n",
       "      <td>NaN</td>\n",
       "    </tr>\n",
       "    <tr>\n",
       "      <th>68084</th>\n",
       "      <td>1992</td>\n",
       "      <td>3</td>\n",
       "      <td>16</td>\n",
       "      <td>1</td>\n",
       "      <td>1648.0</td>\n",
       "      <td>1650</td>\n",
       "      <td>1714.0</td>\n",
       "      <td>1719</td>\n",
       "      <td>CO</td>\n",
       "      <td>831</td>\n",
       "      <td>...</td>\n",
       "      <td>NaN</td>\n",
       "      <td>NaN</td>\n",
       "      <td>0</td>\n",
       "      <td>NaN</td>\n",
       "      <td>0</td>\n",
       "      <td>NaN</td>\n",
       "      <td>NaN</td>\n",
       "      <td>NaN</td>\n",
       "      <td>NaN</td>\n",
       "      <td>NaN</td>\n",
       "    </tr>\n",
       "    <tr>\n",
       "      <th>36241</th>\n",
       "      <td>1990</td>\n",
       "      <td>8</td>\n",
       "      <td>8</td>\n",
       "      <td>3</td>\n",
       "      <td>651.0</td>\n",
       "      <td>654</td>\n",
       "      <td>628.0</td>\n",
       "      <td>635</td>\n",
       "      <td>DL</td>\n",
       "      <td>383</td>\n",
       "      <td>...</td>\n",
       "      <td>NaN</td>\n",
       "      <td>NaN</td>\n",
       "      <td>0</td>\n",
       "      <td>NaN</td>\n",
       "      <td>0</td>\n",
       "      <td>NaN</td>\n",
       "      <td>NaN</td>\n",
       "      <td>NaN</td>\n",
       "      <td>NaN</td>\n",
       "      <td>NaN</td>\n",
       "    </tr>\n",
       "    <tr>\n",
       "      <th>43152</th>\n",
       "      <td>1990</td>\n",
       "      <td>1</td>\n",
       "      <td>1</td>\n",
       "      <td>1</td>\n",
       "      <td>1209.0</td>\n",
       "      <td>1210</td>\n",
       "      <td>1356.0</td>\n",
       "      <td>1350</td>\n",
       "      <td>DL</td>\n",
       "      <td>820</td>\n",
       "      <td>...</td>\n",
       "      <td>NaN</td>\n",
       "      <td>NaN</td>\n",
       "      <td>0</td>\n",
       "      <td>NaN</td>\n",
       "      <td>0</td>\n",
       "      <td>NaN</td>\n",
       "      <td>NaN</td>\n",
       "      <td>NaN</td>\n",
       "      <td>NaN</td>\n",
       "      <td>NaN</td>\n",
       "    </tr>\n",
       "    <tr>\n",
       "      <th>45995</th>\n",
       "      <td>1991</td>\n",
       "      <td>10</td>\n",
       "      <td>6</td>\n",
       "      <td>7</td>\n",
       "      <td>553.0</td>\n",
       "      <td>558</td>\n",
       "      <td>637.0</td>\n",
       "      <td>640</td>\n",
       "      <td>TW</td>\n",
       "      <td>591</td>\n",
       "      <td>...</td>\n",
       "      <td>NaN</td>\n",
       "      <td>NaN</td>\n",
       "      <td>0</td>\n",
       "      <td>NaN</td>\n",
       "      <td>0</td>\n",
       "      <td>NaN</td>\n",
       "      <td>NaN</td>\n",
       "      <td>NaN</td>\n",
       "      <td>NaN</td>\n",
       "      <td>NaN</td>\n",
       "    </tr>\n",
       "  </tbody>\n",
       "</table>\n",
       "<p>5 rows × 29 columns</p>\n",
       "</div>"
      ],
      "text/plain": [
       "       Year  Month  DayofMonth  DayOfWeek  DepTime  CRSDepTime  ArrTime  \\\n",
       "56372  1991     11           3          7   1234.0        1235   1328.0   \n",
       "68084  1992      3          16          1   1648.0        1650   1714.0   \n",
       "36241  1990      8           8          3    651.0         654    628.0   \n",
       "43152  1990      1           1          1   1209.0        1210   1356.0   \n",
       "45995  1991     10           6          7    553.0         558    637.0   \n",
       "\n",
       "       CRSArrTime UniqueCarrier  FlightNum        ...          TaxiIn  \\\n",
       "56372        1334            US       1059        ...             NaN   \n",
       "68084        1719            CO        831        ...             NaN   \n",
       "36241         635            DL        383        ...             NaN   \n",
       "43152        1350            DL        820        ...             NaN   \n",
       "45995         640            TW        591        ...             NaN   \n",
       "\n",
       "       TaxiOut  Cancelled  CancellationCode  Diverted  CarrierDelay  \\\n",
       "56372      NaN          0               NaN         0           NaN   \n",
       "68084      NaN          0               NaN         0           NaN   \n",
       "36241      NaN          0               NaN         0           NaN   \n",
       "43152      NaN          0               NaN         0           NaN   \n",
       "45995      NaN          0               NaN         0           NaN   \n",
       "\n",
       "      WeatherDelay NASDelay  SecurityDelay  LateAircraftDelay  \n",
       "56372          NaN      NaN            NaN                NaN  \n",
       "68084          NaN      NaN            NaN                NaN  \n",
       "36241          NaN      NaN            NaN                NaN  \n",
       "43152          NaN      NaN            NaN                NaN  \n",
       "45995          NaN      NaN            NaN                NaN  \n",
       "\n",
       "[5 rows x 29 columns]"
      ]
     },
     "execution_count": 240,
     "metadata": {},
     "output_type": "execute_result"
    }
   ],
   "source": [
    "# Get a view on some values\n",
    "df.sample(5)"
   ]
  },
  {
   "cell_type": "markdown",
   "metadata": {},
   "source": [
    "Observation: there are missing data in some columns."
   ]
  },
  {
   "cell_type": "code",
   "execution_count": 241,
   "metadata": {
    "scrolled": false
   },
   "outputs": [
    {
     "data": {
      "text/plain": [
       "Year                   int64\n",
       "Month                  int64\n",
       "DayofMonth             int64\n",
       "DayOfWeek              int64\n",
       "DepTime              float64\n",
       "CRSDepTime             int64\n",
       "ArrTime              float64\n",
       "CRSArrTime             int64\n",
       "UniqueCarrier         object\n",
       "FlightNum              int64\n",
       "TailNum              float64\n",
       "ActualElapsedTime    float64\n",
       "CRSElapsedTime         int64\n",
       "AirTime              float64\n",
       "ArrDelay             float64\n",
       "DepDelay             float64\n",
       "Origin                object\n",
       "Dest                  object\n",
       "Distance             float64\n",
       "TaxiIn               float64\n",
       "TaxiOut              float64\n",
       "Cancelled              int64\n",
       "CancellationCode     float64\n",
       "Diverted               int64\n",
       "CarrierDelay         float64\n",
       "WeatherDelay         float64\n",
       "NASDelay             float64\n",
       "SecurityDelay        float64\n",
       "LateAircraftDelay    float64\n",
       "dtype: object"
      ]
     },
     "execution_count": 241,
     "metadata": {},
     "output_type": "execute_result"
    }
   ],
   "source": [
    "# Get the columns types\n",
    "df.dtypes"
   ]
  },
  {
   "cell_type": "code",
   "execution_count": 242,
   "metadata": {
    "scrolled": true
   },
   "outputs": [
    {
     "data": {
      "text/plain": [
       "Year                     0\n",
       "Month                    0\n",
       "DayofMonth               0\n",
       "DayOfWeek                0\n",
       "DepTime                833\n",
       "CRSDepTime               0\n",
       "ArrTime               1015\n",
       "CRSArrTime               0\n",
       "UniqueCarrier            0\n",
       "FlightNum                0\n",
       "TailNum              75000\n",
       "ActualElapsedTime     1015\n",
       "CRSElapsedTime           0\n",
       "AirTime              75000\n",
       "ArrDelay              1015\n",
       "DepDelay               833\n",
       "Origin                   0\n",
       "Dest                     0\n",
       "Distance               443\n",
       "TaxiIn               75000\n",
       "TaxiOut              75000\n",
       "Cancelled                0\n",
       "CancellationCode     75000\n",
       "Diverted                 0\n",
       "CarrierDelay         75000\n",
       "WeatherDelay         75000\n",
       "NASDelay             75000\n",
       "SecurityDelay        75000\n",
       "LateAircraftDelay    75000\n",
       "dtype: int64"
      ]
     },
     "execution_count": 242,
     "metadata": {},
     "output_type": "execute_result"
    }
   ],
   "source": [
    "# Where are the missing data ?\n",
    "df.isnull().sum()"
   ]
  },
  {
   "cell_type": "code",
   "execution_count": 243,
   "metadata": {},
   "outputs": [],
   "source": [
    "# Make a copy of the original dataframe\n",
    "df_flights = df.copy()"
   ]
  },
  {
   "cell_type": "code",
   "execution_count": 244,
   "metadata": {},
   "outputs": [],
   "source": [
    "# Drop the columns where all elements are missing\n",
    "df_flights.drop('TailNum', axis=1, inplace=True)\n",
    "df_flights.drop('AirTime', axis=1, inplace=True)\n",
    "df_flights.drop('TaxiIn', axis=1, inplace=True)\n",
    "df_flights.drop('TaxiOut', axis=1, inplace=True)\n",
    "df_flights.drop('CancellationCode', axis=1, inplace=True)\n",
    "df_flights.drop('CarrierDelay', axis=1, inplace=True)\n",
    "df_flights.drop('WeatherDelay', axis=1, inplace=True)\n",
    "df_flights.drop('NASDelay', axis=1, inplace=True)\n",
    "df_flights.drop('SecurityDelay', axis=1, inplace=True)\n",
    "df_flights.drop('LateAircraftDelay', axis=1, inplace=True)"
   ]
  },
  {
   "cell_type": "code",
   "execution_count": 245,
   "metadata": {},
   "outputs": [
    {
     "data": {
      "text/plain": [
       "Year                    0\n",
       "Month                   0\n",
       "DayofMonth              0\n",
       "DayOfWeek               0\n",
       "DepTime               833\n",
       "CRSDepTime              0\n",
       "ArrTime              1015\n",
       "CRSArrTime              0\n",
       "UniqueCarrier           0\n",
       "FlightNum               0\n",
       "ActualElapsedTime    1015\n",
       "CRSElapsedTime          0\n",
       "ArrDelay             1015\n",
       "DepDelay              833\n",
       "Origin                  0\n",
       "Dest                    0\n",
       "Distance              443\n",
       "Cancelled               0\n",
       "Diverted                0\n",
       "dtype: int64"
      ]
     },
     "execution_count": 245,
     "metadata": {},
     "output_type": "execute_result"
    }
   ],
   "source": [
    "# Where are the missing data ?\n",
    "df_flights.isnull().sum()"
   ]
  },
  {
   "cell_type": "code",
   "execution_count": 246,
   "metadata": {},
   "outputs": [],
   "source": [
    "# Now we delete the rows where at least one element is missing\n",
    "#df_flights.dropna(inplace=True)"
   ]
  },
  {
   "cell_type": "code",
   "execution_count": 247,
   "metadata": {},
   "outputs": [
    {
     "data": {
      "text/plain": [
       "(75000, 19)"
      ]
     },
     "execution_count": 247,
     "metadata": {},
     "output_type": "execute_result"
    }
   ],
   "source": [
    "df_flights.shape"
   ]
  },
  {
   "cell_type": "code",
   "execution_count": 248,
   "metadata": {},
   "outputs": [
    {
     "data": {
      "text/plain": [
       "Year                    0\n",
       "Month                   0\n",
       "DayofMonth              0\n",
       "DayOfWeek               0\n",
       "DepTime               833\n",
       "CRSDepTime              0\n",
       "ArrTime              1015\n",
       "CRSArrTime              0\n",
       "UniqueCarrier           0\n",
       "FlightNum               0\n",
       "ActualElapsedTime    1015\n",
       "CRSElapsedTime          0\n",
       "ArrDelay             1015\n",
       "DepDelay              833\n",
       "Origin                  0\n",
       "Dest                    0\n",
       "Distance              443\n",
       "Cancelled               0\n",
       "Diverted                0\n",
       "dtype: int64"
      ]
     },
     "execution_count": 248,
     "metadata": {},
     "output_type": "execute_result"
    }
   ],
   "source": [
    "# Check the result\n",
    "df_flights.isnull().sum()"
   ]
  },
  {
   "cell_type": "code",
   "execution_count": 249,
   "metadata": {
    "scrolled": false
   },
   "outputs": [
    {
     "data": {
      "text/html": [
       "<div>\n",
       "<style scoped>\n",
       "    .dataframe tbody tr th:only-of-type {\n",
       "        vertical-align: middle;\n",
       "    }\n",
       "\n",
       "    .dataframe tbody tr th {\n",
       "        vertical-align: top;\n",
       "    }\n",
       "\n",
       "    .dataframe thead th {\n",
       "        text-align: right;\n",
       "    }\n",
       "</style>\n",
       "<table border=\"1\" class=\"dataframe\">\n",
       "  <thead>\n",
       "    <tr style=\"text-align: right;\">\n",
       "      <th></th>\n",
       "      <th>Year</th>\n",
       "      <th>Month</th>\n",
       "      <th>DayofMonth</th>\n",
       "      <th>DayOfWeek</th>\n",
       "      <th>DepTime</th>\n",
       "      <th>CRSDepTime</th>\n",
       "      <th>ArrTime</th>\n",
       "      <th>CRSArrTime</th>\n",
       "      <th>UniqueCarrier</th>\n",
       "      <th>FlightNum</th>\n",
       "      <th>ActualElapsedTime</th>\n",
       "      <th>CRSElapsedTime</th>\n",
       "      <th>ArrDelay</th>\n",
       "      <th>DepDelay</th>\n",
       "      <th>Origin</th>\n",
       "      <th>Dest</th>\n",
       "      <th>Distance</th>\n",
       "      <th>Cancelled</th>\n",
       "      <th>Diverted</th>\n",
       "    </tr>\n",
       "  </thead>\n",
       "  <tbody>\n",
       "    <tr>\n",
       "      <th>71460</th>\n",
       "      <td>1992</td>\n",
       "      <td>8</td>\n",
       "      <td>19</td>\n",
       "      <td>3</td>\n",
       "      <td>1102.0</td>\n",
       "      <td>1100</td>\n",
       "      <td>1159.0</td>\n",
       "      <td>1156</td>\n",
       "      <td>AA</td>\n",
       "      <td>333</td>\n",
       "      <td>177.0</td>\n",
       "      <td>176</td>\n",
       "      <td>3.0</td>\n",
       "      <td>2.0</td>\n",
       "      <td>DFW</td>\n",
       "      <td>LAX</td>\n",
       "      <td>1235.0</td>\n",
       "      <td>0</td>\n",
       "      <td>0</td>\n",
       "    </tr>\n",
       "    <tr>\n",
       "      <th>57779</th>\n",
       "      <td>1991</td>\n",
       "      <td>2</td>\n",
       "      <td>15</td>\n",
       "      <td>5</td>\n",
       "      <td>2055.0</td>\n",
       "      <td>2055</td>\n",
       "      <td>2332.0</td>\n",
       "      <td>2328</td>\n",
       "      <td>TW</td>\n",
       "      <td>54</td>\n",
       "      <td>97.0</td>\n",
       "      <td>93</td>\n",
       "      <td>4.0</td>\n",
       "      <td>0.0</td>\n",
       "      <td>STL</td>\n",
       "      <td>CLE</td>\n",
       "      <td>487.0</td>\n",
       "      <td>0</td>\n",
       "      <td>0</td>\n",
       "    </tr>\n",
       "    <tr>\n",
       "      <th>62637</th>\n",
       "      <td>1992</td>\n",
       "      <td>2</td>\n",
       "      <td>3</td>\n",
       "      <td>1</td>\n",
       "      <td>1456.0</td>\n",
       "      <td>1500</td>\n",
       "      <td>1620.0</td>\n",
       "      <td>1622</td>\n",
       "      <td>UA</td>\n",
       "      <td>937</td>\n",
       "      <td>84.0</td>\n",
       "      <td>82</td>\n",
       "      <td>-2.0</td>\n",
       "      <td>-4.0</td>\n",
       "      <td>LAX</td>\n",
       "      <td>SFO</td>\n",
       "      <td>337.0</td>\n",
       "      <td>0</td>\n",
       "      <td>0</td>\n",
       "    </tr>\n",
       "    <tr>\n",
       "      <th>34875</th>\n",
       "      <td>1990</td>\n",
       "      <td>10</td>\n",
       "      <td>25</td>\n",
       "      <td>4</td>\n",
       "      <td>1340.0</td>\n",
       "      <td>1340</td>\n",
       "      <td>1531.0</td>\n",
       "      <td>1531</td>\n",
       "      <td>EA</td>\n",
       "      <td>767</td>\n",
       "      <td>111.0</td>\n",
       "      <td>111</td>\n",
       "      <td>0.0</td>\n",
       "      <td>0.0</td>\n",
       "      <td>DTW</td>\n",
       "      <td>ATL</td>\n",
       "      <td>594.0</td>\n",
       "      <td>0</td>\n",
       "      <td>0</td>\n",
       "    </tr>\n",
       "    <tr>\n",
       "      <th>69198</th>\n",
       "      <td>1992</td>\n",
       "      <td>12</td>\n",
       "      <td>27</td>\n",
       "      <td>7</td>\n",
       "      <td>1651.0</td>\n",
       "      <td>1650</td>\n",
       "      <td>1908.0</td>\n",
       "      <td>1905</td>\n",
       "      <td>DL</td>\n",
       "      <td>694</td>\n",
       "      <td>77.0</td>\n",
       "      <td>75</td>\n",
       "      <td>3.0</td>\n",
       "      <td>1.0</td>\n",
       "      <td>LAS</td>\n",
       "      <td>SLC</td>\n",
       "      <td>368.0</td>\n",
       "      <td>0</td>\n",
       "      <td>0</td>\n",
       "    </tr>\n",
       "  </tbody>\n",
       "</table>\n",
       "</div>"
      ],
      "text/plain": [
       "       Year  Month  DayofMonth  DayOfWeek  DepTime  CRSDepTime  ArrTime  \\\n",
       "71460  1992      8          19          3   1102.0        1100   1159.0   \n",
       "57779  1991      2          15          5   2055.0        2055   2332.0   \n",
       "62637  1992      2           3          1   1456.0        1500   1620.0   \n",
       "34875  1990     10          25          4   1340.0        1340   1531.0   \n",
       "69198  1992     12          27          7   1651.0        1650   1908.0   \n",
       "\n",
       "       CRSArrTime UniqueCarrier  FlightNum  ActualElapsedTime  CRSElapsedTime  \\\n",
       "71460        1156            AA        333              177.0             176   \n",
       "57779        2328            TW         54               97.0              93   \n",
       "62637        1622            UA        937               84.0              82   \n",
       "34875        1531            EA        767              111.0             111   \n",
       "69198        1905            DL        694               77.0              75   \n",
       "\n",
       "       ArrDelay  DepDelay Origin Dest  Distance  Cancelled  Diverted  \n",
       "71460       3.0       2.0    DFW  LAX    1235.0          0         0  \n",
       "57779       4.0       0.0    STL  CLE     487.0          0         0  \n",
       "62637      -2.0      -4.0    LAX  SFO     337.0          0         0  \n",
       "34875       0.0       0.0    DTW  ATL     594.0          0         0  \n",
       "69198       3.0       1.0    LAS  SLC     368.0          0         0  "
      ]
     },
     "execution_count": 249,
     "metadata": {},
     "output_type": "execute_result"
    }
   ],
   "source": [
    "# Get a view on the dataset\n",
    "df_flights.sample(5)"
   ]
  },
  {
   "cell_type": "markdown",
   "metadata": {},
   "source": [
    "### What is the structure of your dataset?\n",
    "\n",
    "> There are 73546 records of flights, over 5 years. There are time variables (mainly expected times and delays), numeric variables and text variables such are origins, destinations and carriers' names. We also have boolean like information (here as 0 or 1) to know if the flight is canceled or diverted.\n",
    "\n",
    "\n",
    "### What is/are the main feature(s) of interest in your dataset?\n",
    "\n",
    "> I am most interested in the following :\n",
    "1. Are there certain destinations or arrival cities that are home to more delays or cancellations ?\n",
    "2. What are the preferred times for flights to occur ? Are there any changes over the years ?\n",
    "\n",
    "### What features in the dataset do you think will help support your investigation into your feature(s) of interest?\n",
    "\n",
    "> For my first feature of interest, looking into `Cancelled` which indicates if the flight has been canceled or not, will be a key. The reason of the cancellation identified as `cancellationCode` might be interesting to have more insights.   \n",
    "Regarding Delaying, I think that arrival delays (`ArrDelay`) will help to support my investigation.  \n",
    "Later, I will dive into cancelation and arrival delays relationships with the arrival cities or destinations here identified as `Dest`.    \n",
    "> For the second one, \"What are the preferred times for flights to occur ?\" : I will focus on departure and arrival time here `DepTime`and `ArrTime`. Then, I will develop an understanding on any changes over the years `Year`."
   ]
  },
  {
   "cell_type": "markdown",
   "metadata": {},
   "source": [
    "## Univariate Exploration\n",
    "\n",
    "> In this section, investigate distributions of individual variables. If\n",
    "you see unusual points or outliers, take a deeper look to clean things up\n",
    "and prepare yourself to look at relationships between variables."
   ]
  },
  {
   "cell_type": "markdown",
   "metadata": {},
   "source": [
    "Looking at the `Canceled` variable. "
   ]
  },
  {
   "cell_type": "code",
   "execution_count": 252,
   "metadata": {},
   "outputs": [
    {
     "data": {
      "image/png": "[encoded data removed]",
      "text/plain": [
       "<Figure size 432x288 with 1 Axes>"
      ]
     },
     "metadata": {
      "needs_background": "light"
     },
     "output_type": "display_data"
    }
   ],
   "source": [
    "# Create a bar chart of the cancelation state\n",
    "\n",
    "# Use only one color\n",
    "base_color = sb.color_palette()[0]\n",
    "\n",
    "# plot the bar chart\n",
    "cancelled_bar = sb.countplot(data = df_flights, x = 'Cancelled', color = base_color)\n",
    "\n",
    "# Set labels names\n",
    "cancelled_bar.set(title='Flights cancellation 1987 - 1992', xlabel='Cancelled', ylabel='Number of flights');"
   ]
  },
  {
   "cell_type": "markdown",
   "metadata": {},
   "source": [
    "> Make sure that, after every plot or related series of plots, that you\n",
    "include a Markdown cell with comments about what you observed, and what\n",
    "you plan on investigating next."
   ]
  },
  {
   "cell_type": "code",
   "execution_count": null,
   "metadata": {},
   "outputs": [],
   "source": []
  },
  {
   "cell_type": "markdown",
   "metadata": {},
   "source": [
    "### Discuss the distribution(s) of your variable(s) of interest. Were there any unusual points? Did you need to perform any transformations?\n",
    "\n",
    "> Your answer here!\n",
    "\n",
    "### Of the features you investigated, were there any unusual distributions? Did you perform any operations on the data to tidy, adjust, or change the form of the data? If so, why did you do this?\n",
    "\n",
    "> Your answer here!"
   ]
  },
  {
   "cell_type": "markdown",
   "metadata": {},
   "source": [
    "## Bivariate Exploration\n",
    "\n",
    "> In this section, investigate relationships between pairs of variables in your\n",
    "data. Make sure the variables that you cover here have been introduced in some\n",
    "fashion in the previous section (univariate exploration)."
   ]
  },
  {
   "cell_type": "code",
   "execution_count": null,
   "metadata": {},
   "outputs": [],
   "source": []
  },
  {
   "cell_type": "markdown",
   "metadata": {},
   "source": [
    "### Talk about some of the relationships you observed in this part of the investigation. How did the feature(s) of interest vary with other features in the dataset?\n",
    "\n",
    "> Your answer here!\n",
    "\n",
    "### Did you observe any interesting relationships between the other features (not the main feature(s) of interest)?\n",
    "\n",
    "> Your answer here!"
   ]
  },
  {
   "cell_type": "markdown",
   "metadata": {},
   "source": [
    "## Multivariate Exploration\n",
    "\n",
    "> Create plots of three or more variables to investigate your data even\n",
    "further. Make sure that your investigations are justified, and follow from\n",
    "your work in the previous sections."
   ]
  },
  {
   "cell_type": "code",
   "execution_count": null,
   "metadata": {},
   "outputs": [],
   "source": []
  },
  {
   "cell_type": "markdown",
   "metadata": {},
   "source": [
    "### Talk about some of the relationships you observed in this part of the investigation. Were there features that strengthened each other in terms of looking at your feature(s) of interest?\n",
    "\n",
    "> Your answer here!\n",
    "\n",
    "### Were there any interesting or surprising interactions between features?\n",
    "\n",
    "> Your answer here!"
   ]
  },
  {
   "cell_type": "markdown",
   "metadata": {},
   "source": [
    "> At the end of your report, make sure that you export the notebook as an\n",
    "html file from the `File > Download as... > HTML` menu. Make sure you keep\n",
    "track of where the exported file goes, so you can put it in the same folder\n",
    "as this notebook for project submission. Also, make sure you remove all of\n",
    "the quote-formatted guide notes like this one before you finish your report!"
   ]
  },
  {
   "cell_type": "code",
   "execution_count": null,
   "metadata": {},
   "outputs": [],
   "source": []
  }
 ],
 "metadata": {
  "kernelspec": {
   "display_name": "Python 3",
   "language": "python",
   "name": "python3"
  },
  "language_info": {
   "codemirror_mode": {
    "name": "ipython",
    "version": 3
   },
   "file_extension": ".py",
   "mimetype": "text/x-python",
   "name": "python",
   "nbconvert_exporter": "python",
   "pygments_lexer": "ipython3",
   "version": "3.6.6"
  }
 },
 "nbformat": 4,
 "nbformat_minor": 2
}
